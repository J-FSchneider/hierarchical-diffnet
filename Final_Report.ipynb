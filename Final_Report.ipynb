{
 "cells": [
  {
   "cell_type": "markdown",
   "metadata": {
    "toc": true
   },
   "source": [
    "<h1>Table of Contents<span class=\"tocSkip\"></span></h1>\n",
    "<div class=\"toc\"><ul class=\"toc-item\"><li><span><a href=\"#Final-Project-Machine-Learning-with-Probabilistic-Programming\" data-toc-modified-id=\"Final-Project-Machine-Learning-with-Probabilistic-Programming-1\"><span class=\"toc-item-num\">1&nbsp;&nbsp;</span>Final Project Machine Learning with Probabilistic Programming</a></span><ul class=\"toc-item\"><li><span><a href=\"#Fall-2018,-Columbia-University,-New-York,-Prof.-Alp-Kucukelbir\" data-toc-modified-id=\"Fall-2018,-Columbia-University,-New-York,-Prof.-Alp-Kucukelbir-1.1\"><span class=\"toc-item-num\">1.1&nbsp;&nbsp;</span>Fall 2018, Columbia University, New York, Prof. Alp Kucukelbir</a></span><ul class=\"toc-item\"><li><span><a href=\"#Jan-Felix-Schneider-(jfs2160),-Brian-Allen-(ba2542)\" data-toc-modified-id=\"Jan-Felix-Schneider-(jfs2160),-Brian-Allen-(ba2542)-1.1.1\"><span class=\"toc-item-num\">1.1.1&nbsp;&nbsp;</span>Jan-Felix Schneider (jfs2160), Brian Allen (ba2542)</a></span></li></ul></li></ul></li><li><span><a href=\"#Introduction\" data-toc-modified-id=\"Introduction-2\"><span class=\"toc-item-num\">2&nbsp;&nbsp;</span>Introduction</a></span><ul class=\"toc-item\"><li><span><a href=\"#Problem-Statement\" data-toc-modified-id=\"Problem-Statement-2.1\"><span class=\"toc-item-num\">2.1&nbsp;&nbsp;</span>Problem Statement</a></span><ul class=\"toc-item\"><li><span><a href=\"#Given-Empty-Graph\" data-toc-modified-id=\"Given-Empty-Graph-2.1.1\"><span class=\"toc-item-num\">2.1.1&nbsp;&nbsp;</span>Given Empty Graph</a></span></li><li><span><a href=\"#Observe-Set-of-Cascades\" data-toc-modified-id=\"Observe-Set-of-Cascades-2.1.2\"><span class=\"toc-item-num\">2.1.2&nbsp;&nbsp;</span>Observe Set of Cascades</a></span></li><li><span><a href=\"#Infer-Network-Structure\" data-toc-modified-id=\"Infer-Network-Structure-2.1.3\"><span class=\"toc-item-num\">2.1.3&nbsp;&nbsp;</span>Infer Network Structure</a></span></li></ul></li></ul></li><li><span><a href=\"#Models\" data-toc-modified-id=\"Models-3\"><span class=\"toc-item-num\">3&nbsp;&nbsp;</span>Models</a></span><ul class=\"toc-item\"><li><span><a href=\"#Base-Model\" data-toc-modified-id=\"Base-Model-3.1\"><span class=\"toc-item-num\">3.1&nbsp;&nbsp;</span>Base Model</a></span><ul class=\"toc-item\"><li><span><a href=\"#Transmission-Parameters\" data-toc-modified-id=\"Transmission-Parameters-3.1.1\"><span class=\"toc-item-num\">3.1.1&nbsp;&nbsp;</span>Transmission Parameters</a></span></li><li><span><a href=\"#Cascade-Likelihood\" data-toc-modified-id=\"Cascade-Likelihood-3.1.2\"><span class=\"toc-item-num\">3.1.2&nbsp;&nbsp;</span>Cascade Likelihood</a></span></li><li><span><a href=\"#Cascade-Seed\" data-toc-modified-id=\"Cascade-Seed-3.1.3\"><span class=\"toc-item-num\">3.1.3&nbsp;&nbsp;</span>Cascade Seed</a></span></li><li><span><a href=\"#Generative-Model\" data-toc-modified-id=\"Generative-Model-3.1.4\"><span class=\"toc-item-num\">3.1.4&nbsp;&nbsp;</span>Generative Model</a></span></li><li><span><a href=\"#Graphical-Model\" data-toc-modified-id=\"Graphical-Model-3.1.5\"><span class=\"toc-item-num\">3.1.5&nbsp;&nbsp;</span>Graphical Model</a></span></li><li><span><a href=\"#Parameter-Estimation\" data-toc-modified-id=\"Parameter-Estimation-3.1.6\"><span class=\"toc-item-num\">3.1.6&nbsp;&nbsp;</span>Parameter Estimation</a></span></li></ul></li><li><span><a href=\"#Cascade-Topic-Model\" data-toc-modified-id=\"Cascade-Topic-Model-3.2\"><span class=\"toc-item-num\">3.2&nbsp;&nbsp;</span>Cascade Topic Model</a></span><ul class=\"toc-item\"><li><span><a href=\"#Cascade-Topic-Assignment\" data-toc-modified-id=\"Cascade-Topic-Assignment-3.2.1\"><span class=\"toc-item-num\">3.2.1&nbsp;&nbsp;</span>Cascade Topic Assignment</a></span></li><li><span><a href=\"#Transmission-Parameters\" data-toc-modified-id=\"Transmission-Parameters-3.2.2\"><span class=\"toc-item-num\">3.2.2&nbsp;&nbsp;</span>Transmission Parameters</a></span></li><li><span><a href=\"#Generative-Model\" data-toc-modified-id=\"Generative-Model-3.2.3\"><span class=\"toc-item-num\">3.2.3&nbsp;&nbsp;</span>Generative Model</a></span></li><li><span><a href=\"#Graphical-Model\" data-toc-modified-id=\"Graphical-Model-3.2.4\"><span class=\"toc-item-num\">3.2.4&nbsp;&nbsp;</span>Graphical Model</a></span></li></ul></li></ul></li><li><span><a href=\"#Data---Memetracker\" data-toc-modified-id=\"Data---Memetracker-4\"><span class=\"toc-item-num\">4&nbsp;&nbsp;</span>Data - Memetracker</a></span></li><li><span><a href=\"#Base-Model-Inference\" data-toc-modified-id=\"Base-Model-Inference-5\"><span class=\"toc-item-num\">5&nbsp;&nbsp;</span>Base Model Inference</a></span></li><li><span><a href=\"#Cascade-Topic-Model-Inference\" data-toc-modified-id=\"Cascade-Topic-Model-Inference-6\"><span class=\"toc-item-num\">6&nbsp;&nbsp;</span>Cascade Topic Model Inference</a></span></li><li><span><a href=\"#Base-Model-Criticism\" data-toc-modified-id=\"Base-Model-Criticism-7\"><span class=\"toc-item-num\">7&nbsp;&nbsp;</span>Base Model Criticism</a></span></li><li><span><a href=\"#Criticism\" data-toc-modified-id=\"Criticism-8\"><span class=\"toc-item-num\">8&nbsp;&nbsp;</span>Criticism</a></span></li><li><span><a href=\"#Issues-with-Edward\" data-toc-modified-id=\"Issues-with-Edward-9\"><span class=\"toc-item-num\">9&nbsp;&nbsp;</span>Issues with Edward</a></span><ul class=\"toc-item\"><li><span><a href=\"#What-we-tried-in-Edward\" data-toc-modified-id=\"What-we-tried-in-Edward-9.1\"><span class=\"toc-item-num\">9.1&nbsp;&nbsp;</span>What we tried in Edward</a></span></li><li><span><a href=\"#Non-Differentiability-of-Shortest-Path\" data-toc-modified-id=\"Non-Differentiability-of-Shortest-Path-9.2\"><span class=\"toc-item-num\">9.2&nbsp;&nbsp;</span>Non-Differentiability of Shortest Path</a></span></li><li><span><a href=\"#Issues-with-Random-Variable-Class\" data-toc-modified-id=\"Issues-with-Random-Variable-Class-9.3\"><span class=\"toc-item-num\">9.3&nbsp;&nbsp;</span>Issues with Random Variable Class</a></span></li></ul></li><li><span><a href=\"#Future-Work\" data-toc-modified-id=\"Future-Work-10\"><span class=\"toc-item-num\">10&nbsp;&nbsp;</span>Future Work</a></span><ul class=\"toc-item\"><li><span><a href=\"#Modeling\" data-toc-modified-id=\"Modeling-10.1\"><span class=\"toc-item-num\">10.1&nbsp;&nbsp;</span>Modeling</a></span></li><li><span><a href=\"#Inference\" data-toc-modified-id=\"Inference-10.2\"><span class=\"toc-item-num\">10.2&nbsp;&nbsp;</span>Inference</a></span></li><li><span><a href=\"#Criticism\" data-toc-modified-id=\"Criticism-10.3\"><span class=\"toc-item-num\">10.3&nbsp;&nbsp;</span>Criticism</a></span></li></ul></li><li><span><a href=\"#References\" data-toc-modified-id=\"References-11\"><span class=\"toc-item-num\">11&nbsp;&nbsp;</span>References</a></span></li></ul></div>"
   ]
  },
  {
   "cell_type": "markdown",
   "metadata": {},
   "source": [
    "# Final Project Machine Learning with Probabilistic Programming \n",
    "## Fall 2018, Columbia University, New York, Prof. Alp Kucukelbir\n",
    "### Jan-Felix Schneider (jfs2160), Brian Allen (ba2542) "
   ]
  },
  {
   "cell_type": "markdown",
   "metadata": {
    "ExecuteTime": {
     "end_time": "2018-11-27T19:09:02.145174Z",
     "start_time": "2018-11-27T19:09:02.140621Z"
    }
   },
   "source": [
    "# Introduction \n",
    "\n",
    "The spread of a contagion in a network has many applications: diseases spread through cities, news spread through media pages, behavior spread through social networks. However, the data observed in nature usually only provides the infection times and not which node infected which neighbor. \n",
    "\n",
    "In this project, we would like to infer an underlying \"influence network\" from a set of cascades, a set of node and their infection times. We're building our efforts on the work of Rodriguez et al [1], who built a probability model on the independent cascade model developed by Kempe et al [2]. Our main effort was to adapt this model to a probabilistic programming setting.\n",
    "\n",
    "As an extension to the base, we hypothesize that cascades with added context may alter how infections spread throughout a network. For example, a viral story may spread differently if the context is politics rather than sports. "
   ]
  },
  {
   "cell_type": "markdown",
   "metadata": {},
   "source": [
    "## Problem Statement\n",
    "\n",
    "### Given Empty Graph"
   ]
  },
  {
   "cell_type": "code",
   "execution_count": 1,
   "metadata": {
    "ExecuteTime": {
     "end_time": "2018-11-28T01:41:13.147458Z",
     "start_time": "2018-11-28T01:41:04.976377Z"
    }
   },
   "outputs": [],
   "source": [
    "from hdiffnet.utils import * \n",
    "from hdiffnet.cascade_generator import GenerativeModel\n",
    "from hdiffnet.preprocessing import Preprocessing\n",
    "from hdiffnet.hdiffnet import ProbabilityModel\n",
    "import matplotlib.pyplot as plt\n",
    "\n",
    "import pandas as pd\n",
    "from tensorflow_probability import edward2 as ed"
   ]
  },
  {
   "cell_type": "code",
   "execution_count": 2,
   "metadata": {
    "ExecuteTime": {
     "end_time": "2018-11-28T01:41:13.206024Z",
     "start_time": "2018-11-28T01:41:13.150328Z"
    }
   },
   "outputs": [],
   "source": [
    "%load_ext autoreload\n",
    "%autoreload 2"
   ]
  },
  {
   "cell_type": "code",
   "execution_count": 4,
   "metadata": {
    "ExecuteTime": {
     "end_time": "2018-11-28T01:44:40.704041Z",
     "start_time": "2018-11-28T01:44:40.648322Z"
    }
   },
   "outputs": [],
   "source": [
    "nx_graph, nx_layout, nx_weights, nx_labels = buildGraph()\n",
    "default_gm = GenerativeModel(defaultAlpha(), 10)"
   ]
  },
  {
   "cell_type": "code",
   "execution_count": 6,
   "metadata": {
    "ExecuteTime": {
     "end_time": "2018-11-28T01:44:58.367322Z",
     "start_time": "2018-11-28T01:44:58.192868Z"
    }
   },
   "outputs": [
    {
     "data": {
      "image/png": "[encoded data removed]",
      "text/plain": [
       "<Figure size 576x504 with 1 Axes>"
      ]
     },
     "metadata": {},
     "output_type": "display_data"
    }
   ],
   "source": [
    "drawEmptyGraph(nx_graph, nx_layout, nx_labels)"
   ]
  },
  {
   "cell_type": "markdown",
   "metadata": {},
   "source": [
    "### Observe Set of Cascades"
   ]
  },
  {
   "cell_type": "code",
   "execution_count": 7,
   "metadata": {
    "ExecuteTime": {
     "end_time": "2018-11-28T01:45:10.274418Z",
     "start_time": "2018-11-28T01:45:02.780775Z"
    }
   },
   "outputs": [
    {
     "name": "stdout",
     "output_type": "stream",
     "text": [
      "node\t time\n",
      "----\t ----\n",
      "   0\t 0.00\n",
      "   5\t 0.43\n",
      "   6\t 1.72\n",
      "   7\t 2.91\n",
      "   8\t 3.23\n",
      "   9\t 5.81\n"
     ]
    },
    {
     "data": {
      "image/png": "[encoded data removed]",
      "text/plain": [
       "<Figure size 576x504 with 1 Axes>"
      ]
     },
     "metadata": {},
     "output_type": "display_data"
    }
   ],
   "source": [
    "drawNetworkProp(nx_graph, nx_layout, nx_labels, default_gm.build_cascade(0), 10)"
   ]
  },
  {
   "cell_type": "markdown",
   "metadata": {},
   "source": [
    "### Infer Network Structure"
   ]
  },
  {
   "cell_type": "code",
   "execution_count": null,
   "metadata": {
    "ExecuteTime": {
     "end_time": "2018-11-28T01:35:34.785781Z",
     "start_time": "2018-11-28T01:35:34.588754Z"
    }
   },
   "outputs": [],
   "source": [
    "drawWeightedGraph(nx_graph, nx_layout, nx_weights, nx_labels)"
   ]
  },
  {
   "cell_type": "markdown",
   "metadata": {},
   "source": [
    "# Models"
   ]
  },
  {
   "cell_type": "markdown",
   "metadata": {
    "ExecuteTime": {
     "end_time": "2018-11-27T19:08:00.539802Z",
     "start_time": "2018-11-27T19:08:00.528425Z"
    }
   },
   "source": [
    "## Base Model\n",
    "\n",
    "### Transmission Parameters\n",
    "\n",
    "Transmission parameters, $\\alpha_{ij} > 0$ are defined for each pair of nodes as the infection rate from node $i$ to node $j$. When modeled as parameters of an Exponential distribution, the resulting set of observations $\\tau$ are interarrival times of infections from node $i$ to $j$.\n",
    "\n",
    "As an extension, we incorporate an Exponential prior on each $\\alpha_{ij}$ to incorporate prior knowledge about the underlying network. \n",
    "\n",
    "### Cascade Likelihood\n",
    "\n",
    "All work on inferring diffusion networks (Rodriguez et al [1]) defines a likelihood function over the cascades to estimate the maxmium likelihood of the transmission parameters between nodes. The work defines an exponential diffusion model using the following log-likelihood:\n",
    "\n",
    "$p(C=c) = \\Pi_{t_i \\leq T} \\Pi_{t_m > T} S(T|t_i, \\alpha_{i,m}) \\cdot \\Pi_{t_j > t_i} S(t_i|t_j, \\alpha_{j,i}) \\sum_{t_j < t_i} H(t_i| t_k, \\alpha_{k,i})$\n",
    "\n",
    "This probability can be calculated with a series of tensor operations. However, this likehlihood does not lend itself to a pure generative model and is therefore difficult to incorporate into Edward's framework.\n",
    "\n",
    "Further derivations and explanation about the cascade likelihood can be found in the paper [here](http://snap.stanford.edu/class/cs224w-readings/rodriguez11diffusion.pdf) \n",
    "\n",
    "### Cascade Seed\n",
    "\n",
    "Each cascade must have a starting point. Since this is an input into the cascade generative process, we draw a random cascade seed $S$ from a categorical distribution assuming all seeds are equally likely.\n",
    "\n",
    "### Generative Model\n",
    "\n",
    "- For each pair of nodes $(i,j)$:\n",
    "    - Draw $\\alpha_{ij} \\sim$ Exp$(1)$\n",
    "- For each cascade:\n",
    "     - For each pair of nodes $(i,j)$:\n",
    "        - Draw infection times $\\tau_{ij} \\sim$ Exp$(\\alpha_{ij})$\n",
    "     - Draw cascade seed $S \\sim $Cat$(\\delta)$\n",
    "     - Observe the shortest path $C \\sim $Shortest Path$(\\tau,S)$\n",
    "\n",
    "### Graphical Model\n",
    "\n",
    "<img src=\"illustrations/model_with_prior.png\" alt=\"drawing\" style=\"width:500px;\"/>\n",
    "\n",
    "### Parameter Estimation\n",
    "\n",
    "Coding shortest path as a generative model was outside the scope of our work, since it is not clear this is a differentiable procedure. In order to work around generating shortest path cascades, we then used cascade likelihood as the likelihood of the entire cascade plate. Coding a new random variable class for the cascade proved to be difficult in the amount of time for this project, which limited the parameter estimation procedures to MAP estimation. However, once the random variable class is built, inference can be expanded to the suite of tools used for probabilistic machine learning (e.g. CAVI, BBVI, MCMC, etc.)"
   ]
  },
  {
   "cell_type": "markdown",
   "metadata": {},
   "source": [
    "## Cascade Topic Model\n",
    "\n",
    "### Cascade Topic Assignment\n",
    "\n",
    "Each cascade draws a topic assignment $Z$ from $K$ topics, with a predefined categorical probabilities $\\theta$. For this model, $Z$ is a one-hot encoded vector, however it is trivial to extend the model to incorporate cascades with a mixture of topics.\n",
    "\n",
    "### Transmission Parameters\n",
    "\n",
    "In this model,  the $\\alpha$ parameter is broken into $\\alpha_0$ and $\\alpha_1$. For a given cascade, define $\\alpha = $Relu$(\\alpha_0+\\alpha_1 \\cdot Z)$, where $\\alpha_0$ acts as a $NxN$ intercept and $\\alpha_1$ is a $NxNxK$ tensor where $k^{th}$ $NxN$ slice is activated when $Z=k$. This $\\alpha_1$ parameter captures the polarity the node has for the given topic. A high similarity between the nodes polarity and the topic assignment, the more likely transmission.\n",
    "\n",
    "### Generative Model\n",
    "\n",
    "- For each pair of nodes $(i,j)$:\n",
    "    - Draw $\\alpha_0 \\sim$ Exp$(1)$\n",
    "    - For each topic K:\n",
    "        - Draw $\\alpha_1 \\sim$ Exp$(1)$\n",
    "- For each cascade:\n",
    "     - Draw topic assignment $Z \\sim $ Cat$(\\theta)$:\n",
    "     - For each pair of nodes $(i,j)$:\n",
    "        - Draw infection times $\\tau_{ij} \\sim$ Exp$($Relu$(\\alpha_0+\\alpha_1 \\cdot Z)$$)$\n",
    "     - Draw cascade seed $S \\sim $Cat$(\\delta)$\n",
    "     - Observe the shortest path $C \\sim $Shortest Path$(\\tau,S)$\n",
    "\n",
    "### Graphical Model\n",
    "\n",
    "<img src=\"illustrations/model_with_polarity.png\" alt=\"drawing\" style=\"width:500px;\"/>"
   ]
  },
  {
   "cell_type": "markdown",
   "metadata": {},
   "source": [
    "# Data - Memetracker\n"
   ]
  },
  {
   "cell_type": "markdown",
   "metadata": {},
   "source": [
    "The raw memetracker dataset includes a phrase, a phrase id, a related phrase cluster, the URL of a webpage and a timestamp. For our analysis, we included the top 200 webpages (to reduce the size of the dataset) and transformed the dataset, such that we assumed a phrase to be a cascade. \n",
    "\n",
    "In order to extract topic information from the cascades, we performed string searches for common political words (e.g. \"politics\", \"republican\", democractics\", etc.) and common sports words (\"NFL\", \"football\", \"player\", etc.) String matches categorized the topic as either politics-related or sports-related - more complex procedured can be imagined. "
   ]
  },
  {
   "cell_type": "code",
   "execution_count": null,
   "metadata": {},
   "outputs": [],
   "source": [
    "#process the raw data and add topics to the cascades\n",
    "p = Preprocessing(\"data/clust-qt08080902w3mfq5.txt\")\n",
    "p.preprocess_data(200)\n",
    "p.add_polarity()"
   ]
  },
  {
   "cell_type": "code",
   "execution_count": null,
   "metadata": {
    "ExecuteTime": {
     "end_time": "2018-11-28T01:35:50.634663Z",
     "start_time": "2018-11-28T01:35:50.360363Z"
    }
   },
   "outputs": [],
   "source": [
    "#load the preloaded data\n",
    "data = pd.read_csv('data/cascade_data_polarity.csv')\n",
    "data['polarity2'] = (data.polarity - 1)**2\n",
    "data['t'] = data['diff']"
   ]
  },
  {
   "cell_type": "code",
   "execution_count": null,
   "metadata": {},
   "outputs": [],
   "source": [
    "p.data = data\n",
    "r, topics = transform_full_to_sparse(p.data, topics=True)"
   ]
  },
  {
   "cell_type": "markdown",
   "metadata": {},
   "source": [
    "# Base Model Inference\n",
    "\n",
    "The inference method used was MAP estimation, due to our difficulties with the random variable class within tensorflow. In particular, we employed the L-BFGS optimizer within tensorflow to model the transmission parameters."
   ]
  },
  {
   "cell_type": "code",
   "execution_count": null,
   "metadata": {},
   "outputs": [],
   "source": [
    "# Feed the data into a tensorflow log-prior model.\n",
    "max_T = p.data.t.max()\n",
    "numNodes = 200\n",
    "model = ProbabilityModel(r[:2100], numNodes, T = max_T)"
   ]
  },
  {
   "cell_type": "code",
   "execution_count": null,
   "metadata": {
    "ExecuteTime": {
     "end_time": "2018-11-27T22:54:54.699787Z",
     "start_time": "2018-11-27T22:54:54.697232Z"
    }
   },
   "outputs": [],
   "source": [
    "%time a1 = model.map_estimate_BFGS(max_iter=1000)"
   ]
  },
  {
   "cell_type": "code",
   "execution_count": null,
   "metadata": {},
   "outputs": [],
   "source": [
    "#batch updates for the whole dataset\n",
    "a_prior = model.batch_update(batch_size=400)\n"
   ]
  },
  {
   "cell_type": "markdown",
   "metadata": {},
   "source": [
    "# Cascade Topic Model Inference\n"
   ]
  },
  {
   "cell_type": "markdown",
   "metadata": {},
   "source": [
    "For model 2, we generated cascade data for two topics from two sets of alpha parameters. The first set of alpha parameters for the ground truth of topic 1 network parameters and the second set for the ground truth of topic 2 network parameters."
   ]
  },
  {
   "cell_type": "code",
   "execution_count": null,
   "metadata": {},
   "outputs": [],
   "source": [
    "# Feed the data into a tensorflow log-prior model.\n",
    "max_T = p.data.t.max()\n",
    "numNodes = 200\n",
    "model_topic = ProbabilityModel(r[:400], numNodes, T=max_T, topics=topics[:400])"
   ]
  },
  {
   "cell_type": "code",
   "execution_count": null,
   "metadata": {},
   "outputs": [],
   "source": [
    "a_topic = model_topic.map_estimate_BFGS_topics(max_iter=1000)"
   ]
  },
  {
   "cell_type": "markdown",
   "metadata": {},
   "source": [
    "# Base Model Criticism"
   ]
  },
  {
   "cell_type": "markdown",
   "metadata": {},
   "source": [
    "\n",
    "To test whether our model can describe how contagion is spreading, we are using a set of cascades, we did not train our model on and obtain the posterior predictive, by generating a cascade.\n"
   ]
  },
  {
   "cell_type": "code",
   "execution_count": null,
   "metadata": {},
   "outputs": [],
   "source": [
    "# get test set and observable variables\n",
    "test_set = r[-25:]\n",
    "seeds = get_seed_set(test_set)\n",
    "times = get_max_times(test_set)\n",
    "test_set = convert_to_matrix(test_set, numNodes, times)\n",
    "test_topics = topics[-25:,:]"
   ]
  },
  {
   "cell_type": "code",
   "execution_count": null,
   "metadata": {},
   "outputs": [],
   "source": [
    "# generate cascades with the learned parameters\n",
    "gm = GenerativeModel(model.a, numNodes)\n",
    "test_cascades = gm.build_cascade_series(seeds, times)"
   ]
  },
  {
   "cell_type": "code",
   "execution_count": null,
   "metadata": {},
   "outputs": [],
   "source": [
    "# generate a benchmark cascade according to the seed set\n",
    "sess=tf.Session()\n",
    "alpha = ed.Gamma(tf.ones((numNodes,numNodes)),tf.ones((numNodes,numNodes)))\n",
    "a_bench = sess.run(alpha)\n",
    "\n",
    "gm = GenerativeModel(a_bench, numNodes)\n",
    "benchmark_cascades = gm.build_cascade_series(seeds, times)"
   ]
  },
  {
   "cell_type": "markdown",
   "metadata": {},
   "source": [
    "We are using several metrics to criticise our model: \n",
    "\n",
    "* MSE and MAE: how good can we predict infection times \n",
    "* Kendall rank corellation coefficient: how good can we predict infection order \n",
    "* Precision: how good can we predict the cascade set"
   ]
  },
  {
   "cell_type": "code",
   "execution_count": null,
   "metadata": {},
   "outputs": [],
   "source": [
    "evaluate(test_set, test_cascades, benchmark_cascades, times)"
   ]
  },
  {
   "cell_type": "markdown",
   "metadata": {},
   "source": [
    "#  Criticism"
   ]
  },
  {
   "cell_type": "code",
   "execution_count": null,
   "metadata": {},
   "outputs": [],
   "source": [
    "# generate cascades according to the seed set\n",
    "gm = GenerativeModel(a_topic, numNodes)\n",
    "test_cascades_t = gm.build_topic_cascades(seeds, times, test_topics)"
   ]
  },
  {
   "cell_type": "code",
   "execution_count": null,
   "metadata": {},
   "outputs": [],
   "source": [
    "evaluate(test_set, test_cascades, benchmark_cascades, times)"
   ]
  },
  {
   "cell_type": "code",
   "execution_count": null,
   "metadata": {},
   "outputs": [],
   "source": [
    "a_topic[1].max()"
   ]
  },
  {
   "cell_type": "code",
   "execution_count": null,
   "metadata": {},
   "outputs": [],
   "source": [
    "model_topic.a_t2.max()"
   ]
  },
  {
   "cell_type": "markdown",
   "metadata": {},
   "source": [
    "# Issues with Edward\n",
    "\n",
    "## What we tried in Edward\n",
    "\n",
    "## Non-Differentiability of Shortest Path\n",
    "\n",
    "As mentioned in the model section, our struggle with Edward is concentrated in defining the shortest path operation on the $\\tau$ transmission times. Since this is operation is non-differentiable, this is a non-trivial problem for performing inference. There is some work today about estimating shortest path using a recurrent neural network, however this is left for future work.\n",
    "\n",
    "## Issues with Random Variable Class\n",
    "\n",
    "As mentioned in the model 1 - parameter estimation section, we transitioned from working with generating a shortest path to evaluating the log probability of the cascade as part of the probabilistic model. Within Tensorflow and Edward, we can define a new random variable class that requires defining the log probability and sampling distribution. This proved to be time-consuming and difficult to debug. In order to get results, we stopped working with Edward's random variable class and built the algorithm by manually defining the log probability in tensorflow.\n"
   ]
  },
  {
   "cell_type": "markdown",
   "metadata": {},
   "source": [
    "# Future Work\n",
    "\n",
    "## Modeling\n",
    "\n",
    "- Adding a Dirichlet prior to the topic draws, which allow for different probabilities of topic assignments\n",
    "- Adding a Dirichlet prior to the seed draws, which allow for different probabilities of seed assignments \n",
    "- Allowing for mixture topic assignments\n",
    "\n",
    "## Inference\n",
    "\n",
    "- Build out the Cascade random variable in Edward\n",
    "- Explore ways to incorporate differentiable shortest path (e.g. RNN)\n",
    "\n",
    "## Criticism\n",
    "\n",
    "- Separate the cascades into a train and validation set and compare metrics\n",
    "- Toggle hyperparameters to ensure inferred network diameter aligns with reality"
   ]
  },
  {
   "cell_type": "markdown",
   "metadata": {},
   "source": [
    "# References"
   ]
  },
  {
   "cell_type": "markdown",
   "metadata": {
    "ExecuteTime": {
     "end_time": "2018-11-27T22:45:14.386373Z",
     "start_time": "2018-11-27T22:45:14.379936Z"
    }
   },
   "source": [
    "[1] Rodriguez, M. G., Balduzzi, D., & Schölkopf, B. (2011). Uncovering the temporal dynamics of diffusion networks. arXiv preprint arXiv:1105.0697.\n",
    "\n",
    "[2] Kempe, D., Kleinberg, J., & Tardos, É. (2003, August). Maximizing the spread of influence through a social network. In Proceedings of the ninth ACM SIGKDD international conference on Knowledge discovery and data mining (pp. 137-146). ACM.\n",
    "\n",
    "[3] Amini, Hamed, and Marc Lelarge. \"The diameter of weighted random graphs.\" The Annals of Applied Probability 25.3 (2015): 1686-1727.\n"
   ]
  }
 ],
 "metadata": {
  "anaconda-cloud": {},
  "kernelspec": {
   "display_name": "Python 3",
   "language": "python",
   "name": "python3"
  },
  "language_info": {
   "codemirror_mode": {
    "name": "ipython",
    "version": 3
   },
   "file_extension": ".py",
   "mimetype": "text/x-python",
   "name": "python",
   "nbconvert_exporter": "python",
   "pygments_lexer": "ipython3",
   "version": "3.6.7"
  },
  "latex_envs": {
   "LaTeX_envs_menu_present": true,
   "autoclose": false,
   "autocomplete": true,
   "bibliofile": "biblio.bib",
   "cite_by": "apalike",
   "current_citInitial": 1,
   "eqLabelWithNumbers": true,
   "eqNumInitial": 1,
   "hotkeys": {
    "equation": "Ctrl-E",
    "itemize": "Ctrl-I"
   },
   "labels_anchors": false,
   "latex_user_defs": false,
   "report_style_numbering": false,
   "user_envs_cfg": false
  },
  "toc": {
   "base_numbering": 1,
   "nav_menu": {},
   "number_sections": true,
   "sideBar": true,
   "skip_h1_title": false,
   "title_cell": "Table of Contents",
   "title_sidebar": "Contents",
   "toc_cell": true,
   "toc_position": {},
   "toc_section_display": true,
   "toc_window_display": false
  }
 },
 "nbformat": 4,
 "nbformat_minor": 2
}
