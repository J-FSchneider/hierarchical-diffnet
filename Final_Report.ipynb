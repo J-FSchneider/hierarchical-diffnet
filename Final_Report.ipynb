{
 "cells": [
  {
   "cell_type": "markdown",
   "metadata": {},
   "source": [
    "# Final Project ML with Probabilistic Programming \n",
    "## Fall 2018, Columbia University\n",
    "### Jan-Felix Schneider (jfs2160), Brian Allen (ba2542) "
   ]
  },
  {
   "cell_type": "markdown",
   "metadata": {
    "ExecuteTime": {
     "end_time": "2018-11-27T19:09:02.145174Z",
     "start_time": "2018-11-27T19:09:02.140621Z"
    }
   },
   "source": [
    "# Introduction \n",
    "\n",
    "The spread of a contagion in a network has many applications: diseases spread through cities, news spread through media pages, behavior spread through social networks. However, the data observed in nature usually only provides the infection times and not which node infected which neighbor. \n",
    "\n",
    "In this project, we would like to infer an underlying \"influence network\" from a set of cascades, a set of node and their infection times. We're building our efforts on the work of Rodriguez et al [1], who built a probability model on the independent cascade model developed by Kempe et al [2]. Our main effort was to adapt this model to a probabilistic programming setting.\n",
    "\n",
    "As an extension to the base, we hypothesize that cascades with added context may alter how infections spread throughout a network. For example, a viral story may spread differently if the context is politics rather than sports. "
   ]
  },
  {
   "cell_type": "markdown",
   "metadata": {},
   "source": [
    "\n",
    "### Given Empty Graph"
   ]
  },
  {
   "cell_type": "code",
   "execution_count": 47,
   "metadata": {},
   "outputs": [],
   "source": [
    "from hdiffnet.utils import * \n",
    "from hdiffnet.cascade_generator import GenerativeModel\n",
    "from hdiffnet.preprocessing import Preprocessing\n",
    "from hdiffnet.hdiffnet import ProbabilityModel\n",
    "import matplotlib.pyplot as plt\n",
    "\n",
    "import pandas as pd\n",
    "from tensorflow_probability import edward2 as ed"
   ]
  },
  {
   "cell_type": "code",
   "execution_count": 2,
   "metadata": {},
   "outputs": [],
   "source": [
    "\n",
    "\n",
    "nx_graph, nx_layout, nx_weights, nx_labels = buildGraph(alpha)"
   ]
  },
  {
   "cell_type": "code",
   "execution_count": 3,
   "metadata": {
    "ExecuteTime": {
     "end_time": "2018-11-27T23:19:32.008228Z",
     "start_time": "2018-11-27T23:19:31.864968Z"
    }
   },
   "outputs": [
    {
     "data": {
      "image/png": "[encoded data removed]",
      "text/plain": [
       "<Figure size 576x504 with 1 Axes>"
      ]
     },
     "metadata": {},
     "output_type": "display_data"
    }
   ],
   "source": [
    "drawEmptyGraph(nx_graph, nx_layout, nx_labels)"
   ]
  },
  {
   "cell_type": "markdown",
   "metadata": {},
   "source": [
    "### Observe Set of Cascades"
   ]
  },
  {
   "cell_type": "code",
   "execution_count": null,
   "metadata": {
    "ExecuteTime": {
     "end_time": "2018-11-27T23:19:40.760077Z",
     "start_time": "2018-11-27T23:19:33.420644Z"
    }
   },
   "outputs": [],
   "source": [
    "drawNetworkProp(nx_graph, nx_layout, nx_labels, sampleCascade(alpha, 10), 10)"
   ]
  },
  {
   "cell_type": "markdown",
   "metadata": {},
   "source": [
    "### Infer Network Structure"
   ]
  },
  {
   "cell_type": "code",
   "execution_count": 5,
   "metadata": {
    "ExecuteTime": {
     "end_time": "2018-11-27T23:19:40.914546Z",
     "start_time": "2018-11-27T23:19:40.763099Z"
    }
   },
   "outputs": [
    {
     "data": {
      "image/png": "[encoded data removed]",
      "text/plain": [
       "<Figure size 432x288 with 1 Axes>"
      ]
     },
     "metadata": {},
     "output_type": "display_data"
    }
   ],
   "source": [
    "drawWeightedGraph(nx_graph, nx_layout, nx_weights, nx_labels)"
   ]
  },
  {
   "cell_type": "markdown",
   "metadata": {},
   "source": [
    "# Models"
   ]
  },
  {
   "cell_type": "markdown",
   "metadata": {
    "ExecuteTime": {
     "end_time": "2018-11-27T19:08:00.539802Z",
     "start_time": "2018-11-27T19:08:00.528425Z"
    }
   },
   "source": [
    "## Base Model\n",
    "\n",
    "### Transmission Parameters\n",
    "\n",
    "Transmission parameters, $\\alpha_{ij} > 0$ are defined for each pair of nodes as the infection rate from node $i$ to node $j$. When modeled as parameters of an Exponential distribution, the resulting set of observations $\\tau$ are interarrival times of infections from node $i$ to $j$.\n",
    "\n",
    "As an extension, we incorporate an Exponential prior on each $\\alpha_{ij}$ to incorporate prior knowledge about the underlying network. \n",
    "\n",
    "### Cascade Likelihood\n",
    "\n",
    "All work on inferring diffusion networks (Rodriguez et al [1]) defines a likelihood function over the cascades to estimate the maxmium likelihood of the transmission parameters between nodes. The work defines an exponential diffusion model using the following log-likelihood:\n",
    "\n",
    "$p(C=c) = \\Pi_{t_i \\leq T} \\Pi_{t_m > T} S(T|t_i, \\alpha_{i,m}) \\cdot \\Pi_{t_j > t_i} S(t_i|t_j, \\alpha_{j,i}) \\sum_{t_j < t_i} H(t_i| t_k, \\alpha_{k,i})$\n",
    "\n",
    "This probability can be calculated with a series of tensor operations. However, this likehlihood does not lend itself to a pure generative model and is therefore difficult to incorporate into Edward's framework.\n",
    "\n",
    "Further derivations can be found in the [paper](http://snap.stanford.edu/class/cs224w-readings/rodriguez11diffusion.pdf) \n",
    "\n",
    "### Cascade Seed\n",
    "\n",
    "Each cascade must have a starting point. Since this is an input into the cascade generative process, we draw a random cascade seed $S$ from a categorical distribution assuming all seeds are equally likely.\n",
    "\n",
    "### Generative Model\n",
    "\n",
    "- For each pair of nodes $(i,j)$:\n",
    "    - Draw $\\alpha_{ij} \\sim$ Exp$(1)$\n",
    "- For each cascade:\n",
    "     - For each pair of nodes $(i,j)$:\n",
    "        - Draw infection times $\\tau_{ij} \\sim$ Exp$(\\alpha_{ij})$\n",
    "     - Draw cascade seed $S \\sim $Cat$(\\delta)$\n",
    "     - Observe the shortest path $C \\sim $Shortest Path$(\\tau,S)$\n",
    "\n",
    "### Graphical Model\n",
    "\n",
    "<img src=\"illustrations/model_with_prior.png\" alt=\"drawing\" style=\"width:500px;\"/>\n",
    "\n",
    "### Parameter Estimation\n",
    "\n",
    "Coding shortest path as a generative model was outside the scope of our work, since it is not clear this is a differentiable procedure. In order to work around generating shortest path cascades, we then used cascade likelihood as the likelihood of the entire cascade plate. Coding a new random variable class for the cascade proved to be difficult in the amount of time for this project, which limited the parameter estimation procedures to MAP estimation. However, once the random variable class is built, inference can be expanded to the suite of tools used for probabilistic machine learning (e.g. CAVI, BBVI, MCMC, etc.)"
   ]
  },
  {
   "cell_type": "markdown",
   "metadata": {},
   "source": [
    "## Cascade Topic Model\n",
    "\n",
    "### Cascade Topic Assignment\n",
    "\n",
    "Each cascade draws a topic assignment $Z$ from $K$ topics, with a predefined categorical probabilities $\\theta$. For this model, $Z$ is a one-hot encoded vector, however it is trivial to extend the model to incorporate cascades with a mixture of topics.\n",
    "\n",
    "### Transmission Parameters\n",
    "\n",
    "In this model,  the $\\alpha$ parameter is broken into $\\alpha_0$ and $\\alpha_1$. For a given cascade, define $\\alpha = $Relu$(\\alpha_0+\\alpha_1 \\cdot Z)$, where $\\alpha_0$ acts as a $NxN$ intercept and $\\alpha_1$ is a $NxNxK$ tensor where $k^{th}$ $NxN$ slice is activated when $Z=k$. This $\\alpha_1$ parameter captures the polarity the node has for the given topic. A high similarity between the nodes polarity and the topic assignment, the more likely transmission.\n",
    "\n",
    "### Generative Model\n",
    "\n",
    "- For each pair of nodes $(i,j)$:\n",
    "    - Draw $\\alpha_0 \\sim$ Exp$(1)$\n",
    "    - For each topic K:\n",
    "        - Draw $\\alpha_1 \\sim$ Exp$(1)$\n",
    "- For each cascade:\n",
    "     - Draw topic assignment $Z \\sim $ Cat$(\\theta)$:\n",
    "     - For each pair of nodes $(i,j)$:\n",
    "        - Draw infection times $\\tau_{ij} \\sim$ Exp$($Relu$(\\alpha_0+\\alpha_1 \\cdot Z)$$)$\n",
    "     - Draw cascade seed $S \\sim $Cat$(\\delta)$\n",
    "     - Observe the shortest path $C \\sim $Shortest Path$(\\tau,S)$\n",
    "\n",
    "### Graphical Model\n",
    "\n",
    "<img src=\"illustrations/model_with_polarity.png\" alt=\"drawing\" style=\"width:500px;\"/>"
   ]
  },
  {
   "cell_type": "markdown",
   "metadata": {},
   "source": [
    "# Data - Memetracker\n"
   ]
  },
  {
   "cell_type": "markdown",
   "metadata": {},
   "source": [
    "The raw memetracker dataset includes a phrase, a phrase id, a related phrase cluster, the URL of a webpage and a timestamp. For our analysis, we included the top 200 webpages (to reduce the size of the dataset) and transformed the dataset, such that we assumed a phrase to be a cascade. \n",
    "\n",
    "In order to extract topic information from the cascades, we performed string searches for common political words (e.g. \"politics\", \"republican\", democractics\", etc.) and common sports words (\"NFL\", \"football\", \"player\", etc.) String matches categorized the topic as either politics-related or sports-related - more complex procedured can be imagined. "
   ]
  },
  {
   "cell_type": "code",
   "execution_count": null,
   "metadata": {},
   "outputs": [],
   "source": [
    "#process the raw data and add topics to the cascades\n",
    "p = Preprocessing(\"data/clust-qt08080902w3mfq5.txt\")\n",
    "p.preprocess_data(200)\n",
    "p.add_polarity()"
   ]
  },
  {
   "cell_type": "code",
   "execution_count": 11,
   "metadata": {},
   "outputs": [],
   "source": [
    "#load the preloaded data\n",
    "p.data = pd.read_csv('data/clean_data.csv')\n",
    "r, topics = transform_full_to_sparse(p.data, topics=True)"
   ]
  },
  {
   "cell_type": "code",
   "execution_count": null,
   "metadata": {},
   "outputs": [],
   "source": [
    "p.data.to_csv('data/clean_data.csv')"
   ]
  },
  {
   "cell_type": "markdown",
   "metadata": {},
   "source": [
    "# Base Model Inference\n",
    "\n",
    "The inference method used was MAP estimation, due to our difficulties with the random variable class within tensorflow. In particular, we employed the L-BFGS optimizer within tensorflow to model the transmission parameters."
   ]
  },
  {
   "cell_type": "code",
   "execution_count": 29,
   "metadata": {},
   "outputs": [],
   "source": [
    "# Feed the data into a tensorflow log-prior model.\n",
    "max_T = p.data.t.max()\n",
    "numNodes = 200\n",
    "model = ProbabilityModel(r[:2100], numNodes, T = max_T)"
   ]
  },
  {
   "cell_type": "code",
   "execution_count": 30,
   "metadata": {
    "ExecuteTime": {
     "end_time": "2018-11-27T22:54:54.699787Z",
     "start_time": "2018-11-27T22:54:54.697232Z"
    }
   },
   "outputs": [
    {
     "name": "stdout",
     "output_type": "stream",
     "text": [
      "INFO:tensorflow:Optimization terminated with:\n",
      "  Message: b'CONVERGENCE: NORM_OF_PROJECTED_GRADIENT_<=_PGTOL'\n",
      "  Objective function value: -0.000000\n",
      "  Number of iterations: 26\n",
      "  Number of functions evaluations: 30\n",
      "CPU times: user 11min 41s, sys: 2min 18s, total: 14min\n",
      "Wall time: 4min 43s\n"
     ]
    }
   ],
   "source": [
    "%time a1 = model.map_estimate_BFGS(max_iter=1000)"
   ]
  },
  {
   "cell_type": "code",
   "execution_count": 31,
   "metadata": {
    "collapsed": true
   },
   "outputs": [
    {
     "name": "stdout",
     "output_type": "stream",
     "text": [
      "INFO:tensorflow:Optimization terminated with:\n",
      "  Message: b'CONVERGENCE: REL_REDUCTION_OF_F_<=_FACTR*EPSMCH'\n",
      "  Objective function value: 32.737339\n",
      "  Number of iterations: 66\n",
      "  Number of functions evaluations: 118\n",
      "INFO:tensorflow:Optimization terminated with:\n",
      "  Message: b'CONVERGENCE: REL_REDUCTION_OF_F_<=_FACTR*EPSMCH'\n",
      "  Objective function value: 31.990635\n",
      "  Number of iterations: 45\n",
      "  Number of functions evaluations: 88\n",
      "INFO:tensorflow:Optimization terminated with:\n",
      "  Message: b'CONVERGENCE: REL_REDUCTION_OF_F_<=_FACTR*EPSMCH'\n",
      "  Objective function value: 16.188795\n",
      "  Number of iterations: 47\n",
      "  Number of functions evaluations: 159\n",
      "INFO:tensorflow:Optimization terminated with:\n",
      "  Message: b'CONVERGENCE: REL_REDUCTION_OF_F_<=_FACTR*EPSMCH'\n",
      "  Objective function value: 34.193008\n",
      "  Number of iterations: 55\n",
      "  Number of functions evaluations: 81\n",
      "INFO:tensorflow:Optimization terminated with:\n",
      "  Message: b'CONVERGENCE: REL_REDUCTION_OF_F_<=_FACTR*EPSMCH'\n",
      "  Objective function value: 35.680580\n",
      "  Number of iterations: 60\n",
      "  Number of functions evaluations: 153\n"
     ]
    }
   ],
   "source": [
    "#batch updates for the whole dataset\n",
    "a_prior = model.batch_update(batch_size=400)\n"
   ]
  },
  {
   "cell_type": "markdown",
   "metadata": {},
   "source": [
    "# Cascade Topic Model Inference\n"
   ]
  },
  {
   "cell_type": "markdown",
   "metadata": {},
   "source": [
    "For model 2, we generated cascade data for two topics from two sets of alpha parameters. The first set of alpha parameters for the ground truth of topic 1 network parameters and the second set for the ground truth of topic 2 network parameters."
   ]
  },
  {
   "cell_type": "code",
   "execution_count": 72,
   "metadata": {},
   "outputs": [],
   "source": [
    "# Feed the data into a tensorflow log-prior model.\n",
    "max_T = p.data.t.max()\n",
    "numNodes = 200\n",
    "model_topic = ProbabilityModel(r[:100], numNodes, T=max_T, topics=topics[:100])"
   ]
  },
  {
   "cell_type": "code",
   "execution_count": 73,
   "metadata": {},
   "outputs": [
    {
     "name": "stdout",
     "output_type": "stream",
     "text": [
      "INFO:tensorflow:Optimization terminated with:\n",
      "  Message: b'CONVERGENCE: REL_REDUCTION_OF_F_<=_FACTR*EPSMCH'\n",
      "  Objective function value: 1284181.750000\n",
      "  Number of iterations: 19\n",
      "  Number of functions evaluations: 60\n"
     ]
    }
   ],
   "source": [
    "a_topic = model_topic.map_estimate_BFGS_topics(max_iter=1000)"
   ]
  },
  {
   "cell_type": "markdown",
   "metadata": {},
   "source": [
    "# Base Model Criticism"
   ]
  },
  {
   "cell_type": "markdown",
   "metadata": {},
   "source": [
    "\n",
    "To test whether our model can describe how contagion is spreading, we are using a set of cascades, we did not train our model on and obtain the posterior predictive, by generating a cascade.\n"
   ]
  },
  {
   "cell_type": "code",
   "execution_count": 41,
   "metadata": {},
   "outputs": [],
   "source": [
    "# get test set and observable variables\n",
    "test_set = r[-25:]\n",
    "seeds = get_seed_set(test_set)\n",
    "times = get_max_times(test_set)\n",
    "test_set = convert_to_matrix(test_set, numNodes, times)\n",
    "test_topics = topics[-25:,:]"
   ]
  },
  {
   "cell_type": "code",
   "execution_count": 42,
   "metadata": {
    "collapsed": true
   },
   "outputs": [
    {
     "name": "stderr",
     "output_type": "stream",
     "text": [
      "\n",
      "  0%|          | 0/25 [00:00<?, ?it/s]\u001b[A\n",
      "  4%|▍         | 1/25 [00:23<09:30, 23.78s/it]\u001b[A\n",
      "  8%|▊         | 2/25 [00:42<08:30, 22.19s/it]\u001b[A\n",
      " 12%|█▏        | 3/25 [01:00<07:41, 20.98s/it]\u001b[A\n",
      " 16%|█▌        | 4/25 [01:26<07:53, 22.54s/it]\u001b[A\n",
      " 20%|██        | 5/25 [01:46<07:17, 21.89s/it]\u001b[A\n",
      " 24%|██▍       | 6/25 [02:04<06:33, 20.71s/it]\u001b[A\n",
      " 28%|██▊       | 7/25 [02:22<05:56, 19.81s/it]\u001b[A\n",
      " 32%|███▏      | 8/25 [02:40<05:27, 19.26s/it]\u001b[A\n",
      " 36%|███▌      | 9/25 [02:58<05:02, 18.94s/it]\u001b[A\n",
      " 40%|████      | 10/25 [03:17<04:44, 18.99s/it]\u001b[A\n",
      " 44%|████▍     | 11/25 [03:38<04:30, 19.34s/it]\u001b[A\n",
      " 48%|████▊     | 12/25 [03:57<04:12, 19.43s/it]\u001b[A\n",
      " 52%|█████▏    | 13/25 [04:27<04:29, 22.45s/it]\u001b[A\n",
      " 56%|█████▌    | 14/25 [04:49<04:07, 22.52s/it]\u001b[A\n",
      " 60%|██████    | 15/25 [05:10<03:38, 21.88s/it]\u001b[A\n",
      " 64%|██████▍   | 16/25 [05:33<03:21, 22.41s/it]\u001b[A\n",
      " 68%|██████▊   | 17/25 [06:00<03:09, 23.72s/it]\u001b[A\n",
      " 72%|███████▏  | 18/25 [06:25<02:48, 24.00s/it]\u001b[A\n",
      " 76%|███████▌  | 19/25 [06:49<02:25, 24.18s/it]\u001b[A\n",
      " 80%|████████  | 20/25 [07:12<01:58, 23.62s/it]\u001b[A\n",
      " 84%|████████▍ | 21/25 [07:35<01:33, 23.39s/it]\u001b[A\n",
      " 88%|████████▊ | 22/25 [08:01<01:13, 24.35s/it]\u001b[A\n",
      " 92%|█████████▏| 23/25 [08:26<00:49, 24.54s/it]\u001b[A\n",
      " 96%|█████████▌| 24/25 [08:48<00:23, 23.72s/it]\u001b[A\n",
      "100%|██████████| 25/25 [09:20<00:00, 26.34s/it]\u001b[A\n",
      "\u001b[A"
     ]
    }
   ],
   "source": [
    "# generate cascades with the learned parameters\n",
    "gm = GenerativeModel(model.a, numNodes)\n",
    "test_cascades = gm.build_cascade_series(seeds, times)"
   ]
  },
  {
   "cell_type": "code",
   "execution_count": 49,
   "metadata": {
    "collapsed": true
   },
   "outputs": [
    {
     "name": "stderr",
     "output_type": "stream",
     "text": [
      "\n",
      "  0%|          | 0/25 [00:00<?, ?it/s]\u001b[A\n",
      "  4%|▍         | 1/25 [00:30<12:03, 30.13s/it]\u001b[A\n",
      "  8%|▊         | 2/25 [00:53<10:49, 28.24s/it]\u001b[A\n",
      " 12%|█▏        | 3/25 [01:15<09:39, 26.34s/it]\u001b[A\n",
      " 16%|█▌        | 4/25 [01:36<08:35, 24.56s/it]\u001b[A\n",
      " 20%|██        | 5/25 [01:57<07:48, 23.41s/it]\u001b[A\n",
      " 24%|██▍       | 6/25 [02:16<07:05, 22.38s/it]\u001b[A\n",
      " 28%|██▊       | 7/25 [02:38<06:39, 22.20s/it]\u001b[A\n",
      " 32%|███▏      | 8/25 [03:06<06:45, 23.83s/it]\u001b[A\n",
      " 36%|███▌      | 9/25 [03:33<06:34, 24.67s/it]\u001b[A\n",
      " 40%|████      | 10/25 [04:03<06:35, 26.34s/it]\u001b[A\n",
      " 44%|████▍     | 11/25 [04:32<06:21, 27.28s/it]\u001b[A\n",
      " 48%|████▊     | 12/25 [04:59<05:52, 27.14s/it]\u001b[A\n",
      " 52%|█████▏    | 13/25 [05:25<05:21, 26.82s/it]\u001b[A\n",
      " 56%|█████▌    | 14/25 [05:55<05:03, 27.60s/it]\u001b[A\n",
      " 60%|██████    | 15/25 [06:37<05:19, 31.99s/it]\u001b[A\n",
      " 64%|██████▍   | 16/25 [07:05<04:38, 30.96s/it]\u001b[A\n",
      " 68%|██████▊   | 17/25 [07:33<03:59, 29.91s/it]\u001b[A\n",
      " 72%|███████▏  | 18/25 [08:00<03:23, 29.06s/it]\u001b[A\n",
      " 76%|███████▌  | 19/25 [08:26<02:48, 28.15s/it]\u001b[A\n",
      " 80%|████████  | 20/25 [08:53<02:18, 27.70s/it]\u001b[A\n",
      " 84%|████████▍ | 21/25 [09:16<01:45, 26.32s/it]\u001b[A\n",
      " 88%|████████▊ | 22/25 [09:40<01:16, 25.59s/it]\u001b[A\n",
      " 92%|█████████▏| 23/25 [10:04<00:50, 25.15s/it]\u001b[A\n",
      " 96%|█████████▌| 24/25 [10:27<00:24, 24.75s/it]\u001b[A\n",
      "100%|██████████| 25/25 [10:51<00:00, 24.48s/it]\u001b[A\n",
      "\u001b[A"
     ]
    }
   ],
   "source": [
    "# generate a benchmark cascade according to the seed set\n",
    "sess=tf.Session()\n",
    "alpha = ed.Gamma(tf.ones((numNodes,numNodes)),tf.ones((numNodes,numNodes)))\n",
    "a_bench = sess.run(alpha)\n",
    "\n",
    "gm = GenerativeModel(a_bench, numNodes)\n",
    "benchmark_cascades = gm.build_cascade_series(seeds, times)"
   ]
  },
  {
   "cell_type": "markdown",
   "metadata": {},
   "source": [
    "We are using several metrics to criticise our model: \n",
    "\n",
    "* MSE and MAE: how good can we predict infection times \n",
    "* Kendall rank corellation coefficient: how good can we predict infection order \n",
    "* Precision: how good can we predict the cascade set"
   ]
  },
  {
   "cell_type": "code",
   "execution_count": 54,
   "metadata": {},
   "outputs": [
    {
     "name": "stdout",
     "output_type": "stream",
     "text": [
      "metric\t set\t \t value\n",
      "_______|_____________|______________________\n",
      "MSE\t benchmark\t19276.0\n",
      "MSE\t model  \t1644.0\n",
      "MAE\t benchmark\t126.0\n",
      "MAE\t model  \t10.0\n",
      "KRCC \t benchmark\t0.011\n",
      "KRCC \t model  \t0.683\n",
      "Prec\t benchmark\t0.072\n",
      "Prec\t model  \t0.136\n"
     ]
    }
   ],
   "source": [
    "evaluate(test_set, test_cascades, benchmark_cascades, times)"
   ]
  },
  {
   "cell_type": "markdown",
   "metadata": {},
   "source": [
    "#  Criticism"
   ]
  },
  {
   "cell_type": "code",
   "execution_count": null,
   "metadata": {},
   "outputs": [
    {
     "data": {
      "application/vnd.jupyter.widget-view+json": {
       "model_id": "1f6242593d7e4828a01eb2ebbe7b5612",
       "version_major": 2,
       "version_minor": 0
      },
      "text/plain": [
       "HBox(children=(IntProgress(value=0, max=25), HTML(value='')))"
      ]
     },
     "metadata": {},
     "output_type": "display_data"
    }
   ],
   "source": [
    "# generate cascades according to the seed set\n",
    "gm = GenerativeModel(a_topic, numNodes)\n",
    "test_cascades_t = gm.build_topic_cascades(seeds, times, test_topics)"
   ]
  },
  {
   "cell_type": "code",
   "execution_count": null,
   "metadata": {},
   "outputs": [],
   "source": [
    "evaluate(test_set, test_cascades_t, benchmark_cascades, times)"
   ]
  },
  {
   "cell_type": "markdown",
   "metadata": {},
   "source": [
    "# Issues with Edward\n",
    "\n",
    "## Non-Differentiability of Shortest Path\n",
    "\n",
    "As mentioned in the model section, our struggle with Edward is concentrated in defining the shortest path operation on the $\\tau$ transmission times. Since this is operation is non-differentiable, this is a non-trivial problem for performing inference. There is some work today about estimating shortest path using a recurrent neural network, however this is left for future work.\n",
    "\n",
    "## Issues with Random Variable Class\n",
    "\n",
    "As mentioned in the base model - parameter estimation section, we transitioned from working with generating a shortest path to evaluating the log probability of the cascade as part of the probabilistic model. Within Tensorflow and Edward, we can define a new random variable class that requires defining the log probability and sampling distribution. This proved to be time-consuming and difficult to debug. In order to get results, we stopped working with Edward's random variable class and built the algorithm by manually defining the log probability in tensorflow.\n"
   ]
  },
  {
   "cell_type": "markdown",
   "metadata": {},
   "source": [
    "# Future Work\n",
    "\n",
    "## Modeling\n",
    "\n",
    "- Adding a Dirichlet prior to the topic draws, which allow for different probabilities of topic assignments\n",
    "- Adding a Dirichlet prior to the seed draws, which allow for different probabilities of seed assignments \n",
    "- Allowing for mixture topic assignments\n",
    "\n",
    "## Inference\n",
    "\n",
    "- Build out the Cascade random variable in Edward\n",
    "- Explore ways to incorporate differentiable shortest path (e.g. RNN)\n",
    "- Make the inference scalable for large datasets\n",
    "\n",
    "## Criticism\n",
    "\n",
    "- Toggle hyperparameters to ensure inferred network diameter aligns with reality"
   ]
  },
  {
   "cell_type": "markdown",
   "metadata": {},
   "source": [
    "# References"
   ]
  },
  {
   "cell_type": "markdown",
   "metadata": {
    "ExecuteTime": {
     "end_time": "2018-11-27T22:45:14.386373Z",
     "start_time": "2018-11-27T22:45:14.379936Z"
    }
   },
   "source": [
    "[1] Rodriguez, M. G., Balduzzi, D., & Schölkopf, B. (2011). Uncovering the temporal dynamics of diffusion networks. arXiv preprint arXiv:1105.0697.\n",
    "\n",
    "[2] Kempe, D., Kleinberg, J., & Tardos, É. (2003, August). Maximizing the spread of influence through a social network. In Proceedings of the ninth ACM SIGKDD international conference on Knowledge discovery and data mining (pp. 137-146). ACM.\n",
    "\n",
    "[3] Amini, Hamed, and Marc Lelarge. \"The diameter of weighted random graphs.\" The Annals of Applied Probability 25.3 (2015): 1686-1727.\n"
   ]
  }
 ],
 "metadata": {
  "anaconda-cloud": {},
  "kernelspec": {
   "display_name": "py35tensorflow",
   "language": "python",
   "name": "py35tensorflow"
  },
  "language_info": {
   "codemirror_mode": {
    "name": "ipython",
    "version": 3
   },
   "file_extension": ".py",
   "mimetype": "text/x-python",
   "name": "python",
   "nbconvert_exporter": "python",
   "pygments_lexer": "ipython3",
   "version": "3.5.5"
  },
  "latex_envs": {
   "LaTeX_envs_menu_present": true,
   "autoclose": false,
   "autocomplete": true,
   "bibliofile": "biblio.bib",
   "cite_by": "apalike",
   "current_citInitial": 1,
   "eqLabelWithNumbers": true,
   "eqNumInitial": 1,
   "hotkeys": {
    "equation": "Ctrl-E",
    "itemize": "Ctrl-I"
   },
   "labels_anchors": false,
   "latex_user_defs": false,
   "report_style_numbering": false,
   "user_envs_cfg": false
  },
  "toc": {
   "base_numbering": 1,
   "nav_menu": {},
   "number_sections": true,
   "sideBar": true,
   "skip_h1_title": false,
   "title_cell": "Table of Contents",
   "title_sidebar": "Contents",
   "toc_cell": true,
   "toc_position": {},
   "toc_section_display": true,
   "toc_window_display": false
  }
 },
 "nbformat": 4,
 "nbformat_minor": 2
}
