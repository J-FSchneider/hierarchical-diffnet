{
 "cells": [
  {
   "cell_type": "markdown",
   "metadata": {},
   "source": [
    "# Final Project ML with Probabilistic Programming \n",
    "## Fall 2018, Columbia University\n",
    "### Jan-Felix Schneider (jfs2160), Brian Allen (ba2542) "
   ]
  },
  {
   "cell_type": "markdown",
   "metadata": {
    "ExecuteTime": {
     "end_time": "2018-11-27T19:09:02.145174Z",
     "start_time": "2018-11-27T19:09:02.140621Z"
    }
   },
   "source": [
    "# Introduction \n",
    "\n",
    "The spread of a contagion in a network has many applications: diseases spread through cities, news spread through media pages, behavior spread through social networks. However, the data observed in nature usually only provides the infection times and not which node infected which neighbor. \n",
    "\n",
    "In this project, we would like to infer an underlying \"influence network\" from a set of cascades,i.e. a set of node and their infection times. We're building our efforts on the work of Rodriguez et al [1], who built a probability model on the independent cascade model developed by Kempe et al [2]. Our main effort was to adapt this model to a probabilistic programming setting.\n",
    "\n",
    "As an extension to the base, we hypothesize that cascades with added context may alter how infections spread throughout a network. For example, a viral story may spread differently if the context is politics rather than sports. "
   ]
  },
  {
   "cell_type": "code",
   "execution_count": 1,
   "metadata": {
    "ExecuteTime": {
     "end_time": "2018-11-28T01:41:13.147458Z",
     "start_time": "2018-11-28T01:41:04.976377Z"
    }
   },
   "outputs": [],
   "source": [
    "import sys\n",
    "sys.path.append('..')\n",
    "\n",
    "from hdiffnet.utils import * \n",
    "from hdiffnet.cascade_generator import GenerativeModel\n",
    "from hdiffnet.preprocessing import Preprocessing\n",
    "from hdiffnet.hdiffnet import ProbabilityModel\n",
    "import matplotlib.pyplot as plt\n",
    "\n",
    "import pandas as pd\n",
    "import tensorflow as tf\n",
    "from tensorflow_probability import edward2 as ed"
   ]
  },
  {
   "cell_type": "markdown",
   "metadata": {},
   "source": [
    "### A Simple Example\n",
    "\n",
    "This cascade on a 10 node graph illustrates, what we data we observe"
   ]
  },
  {
   "cell_type": "code",
   "execution_count": 2,
   "metadata": {
    "ExecuteTime": {
     "end_time": "2018-11-28T01:45:10.274418Z",
     "start_time": "2018-11-28T01:45:02.780775Z"
    }
   },
   "outputs": [
    {
     "name": "stdout",
     "output_type": "stream",
     "text": [
      "node\t time\n",
      "----\t ----\n",
      "   0\t 0.00\n",
      "   5\t 1.34\n",
      "   1\t 2.67\n",
      "   7\t 2.95\n",
      "   2\t 3.33\n",
      "   6\t 3.73\n",
      "   3\t 3.84\n",
      "   4\t 4.63\n",
      "   8\t 8.76\n"
     ]
    },
    {
     "data": {
      "image/png": "[encoded data removed]",
      "text/plain": [
       "<Figure size 576x504 with 1 Axes>"
      ]
     },
     "metadata": {},
     "output_type": "display_data"
    }
   ],
   "source": [
    "nx_graph, nx_layout, nx_weights, nx_labels = buildGraph()\n",
    "default_gm = GenerativeModel(defaultAlpha(), 10)\n",
    "drawNetworkProp(nx_graph, nx_layout, nx_labels, default_gm.build_cascade(0), 10)"
   ]
  },
  {
   "cell_type": "markdown",
   "metadata": {},
   "source": [
    "### Infer Network Structure\n",
    "\n",
    "The abovementioned cascade was created by the following \"influence graph\". Bold edges indicate strong influence."
   ]
  },
  {
   "cell_type": "code",
   "execution_count": 3,
   "metadata": {
    "ExecuteTime": {
     "end_time": "2018-11-28T01:35:34.785781Z",
     "start_time": "2018-11-28T01:35:34.588754Z"
    }
   },
   "outputs": [
    {
     "data": {
      "image/png": "[encoded data removed]",
      "text/plain": [
       "<Figure size 432x288 with 1 Axes>"
      ]
     },
     "metadata": {},
     "output_type": "display_data"
    }
   ],
   "source": [
    "drawWeightedGraph(nx_graph, nx_layout, nx_weights, nx_labels)"
   ]
  },
  {
   "cell_type": "markdown",
   "metadata": {
    "ExecuteTime": {
     "end_time": "2018-11-27T19:08:00.539802Z",
     "start_time": "2018-11-27T19:08:00.528425Z"
    }
   },
   "source": [
    "## Base Model\n",
    "\n",
    "### Transmission Parameters\n",
    "\n",
    "More formal, we define the influence parameters $\\alpha_{ij} > 0$ between a pair of nodes as the infection rate from node $i$ to node $j$. When modeled as parameters of an Exponential distribution, the resulting set of observations $\\tau$ are interarrival times of infections from node $i$ to $j$.\n",
    "\n",
    "As an extension, we incorporate an Exponential prior on each $\\alpha_{ij}$ to incorporate prior knowledge about the underlying network, such as the diameter [3].\n",
    "\n",
    "### Cascade Likelihood\n",
    "\n",
    "All work on inferring diffusion networks (Rodriguez et al [1]) defines a cascade likelihood function and estimates the MLE of the transmission parameters. The log-likelihood used is:\n",
    "\n",
    "$p(C=c) = \\Pi_{t_i \\leq T} \\Pi_{t_m > T} S(T|t_i, \\alpha_{i,m}) \\cdot \\Pi_{t_j > t_i} S(t_i|t_j, \\alpha_{j,i}) \\sum_{t_j < t_i} H(t_i| t_k, \\alpha_{k,i})$\n",
    "\n",
    "This can be calculated with a series of tensor operations. However, this likehlihood does not lend itself to a pure generative model and is difficult to incorporate into Edward's framework.\n",
    "\n",
    "Further derivations can be found in the [paper](http://snap.stanford.edu/class/cs224w-readings/rodriguez11diffusion.pdf) \n",
    "\n",
    "### Cascade Seed\n",
    "\n",
    "Each cascade must have a starting point. Since this is an input into the cascade generative process, we draw a random cascade seed $S$ from a categorical distribution assuming all seeds are equally likely.\n",
    "\n",
    "### Generative Model\n",
    "\n",
    "- For each node pair $(i,j)$:\n",
    "    - Draw $\\alpha_{ij}\\sim$ Exp$(1)$\n",
    "- For each cascade:\n",
    "     - For each node pair $(i,j)$:\n",
    "        - Draw infection times $\\tau_{ij}\\sim$ Exp$(\\alpha_{ij})$\n",
    "     - Draw cascade seed $S\\sim $Cat$(\\delta)$\n",
    "     - Observe the shortest path $C\\sim $Shortest Path$(\\tau,S)$\n",
    "\n",
    "### Graphical Model\n",
    "\n",
    "<img src=\"../illustrations/model_with_prior.png\" alt=\"drawing\" style=\"width:500px;\"/>\n",
    "\n",
    "### Parameter Estimation\n",
    "\n",
    "Coding shortest path as a generative model was outside the scope of our work, since it is not clear this is a differentiable procedure. In order to work around generating shortest path cascades, we then used cascade likelihood as the likelihood of the entire cascade plate. Coding a new random variable class for the cascade proved to be difficult in the amount of time for this project, which limited the parameter estimation procedures to MAP estimation. However, once the random variable class is built, inference can be expanded to the suite of tools used for probabilistic machine learning (e.g. CAVI, BBVI, MCMC, etc.)"
   ]
  },
  {
   "cell_type": "markdown",
   "metadata": {},
   "source": [
    "## Cascade Topic Model\n",
    "\n",
    "### Cascade Topic Assignment\n",
    "\n",
    "Each cascade draws a topic assignment $Z$ from $K$ topics, with a predefined categorical probabilities $\\theta$. For this model, $Z$ is a one-hot encoded vector, however it is trivial to extend the model to incorporate cascades with a mixture of topics.\n",
    "\n",
    "### Transmission Parameters\n",
    "\n",
    "In this model,  the $\\alpha$ parameter is broken into $\\alpha_0$ and $\\alpha_1$. For a given cascade, define $\\alpha = $Relu$(\\alpha_0+\\alpha_1 \\cdot Z)$, where $\\alpha_0$ acts as a $NxN$ intercept and $\\alpha_1$ is a $NxNxK$ tensor where $k^{th}$ $NxN$ slice is activated when $Z=k$. This $\\alpha_1$ parameter captures the polarity the node has for the given topic. A high similarity between the nodes polarity and the topic assignment results in higher influence.\n",
    "\n",
    "### Generative Model\n",
    "\n",
    "- For each node pair $(i,j)$:\n",
    "    - Draw $\\alpha_0\\sim$ Exp$(1)$\n",
    "    - For each topic:\n",
    "        - Draw $\\alpha_1\\sim$ Exp$(1)$\n",
    "- For each cascade:\n",
    "     - Draw topic assignment $Z\\sim$ Cat$(\\theta)$:\n",
    "     - For node pair $(i,j)$:\n",
    "        - Draw infection times $\\tau_{ij}\\sim$ Exp$($Relu$(\\alpha_0+\\alpha_1\\cdot Z)$$)$\n",
    "     - Draw cascade seed $S\\sim$ Cat$(\\delta)$\n",
    "     - Observe the shortest path $C\\sim $Shortest Path$(\\tau,S)$\n",
    "\n",
    "### Graphical Model\n",
    "\n",
    "<img src=\"../illustrations/model_with_polarity.png\" alt=\"drawing\" style=\"width:500px;\"/>"
   ]
  },
  {
   "cell_type": "markdown",
   "metadata": {},
   "source": [
    "# Data - Memetracker\n"
   ]
  },
  {
   "cell_type": "markdown",
   "metadata": {},
   "source": [
    "\n",
    "\n",
    "The raw memetracker dataset traces phrases throughout media webpages and includes a phrase, a phrase id, a related phrase cluster, the URL of a webpage and a timestamp. For our analysis, we included the top 200 webpages and considered each phrase as a cascade. \n",
    "\n",
    "The data we are using to test our model can be found [here](http://snap.stanford.edu/memetracker/data.html)\n",
    "\n",
    "In order to extract topic information from the cascades, we performed string searches for common political words (e.g. \"politics\") and common sports words (e.g. \"football\") string matches label the topic as either politics-related or sports-related, more sophisticated methods can be imagined."
   ]
  },
  {
   "cell_type": "code",
   "execution_count": null,
   "metadata": {},
   "outputs": [],
   "source": [
    "#process the raw data\n",
    "p = Preprocessing(\"data/clust-qt08080902w3mfq5.txt\")\n",
    "p.preprocess_data(200)\n",
    "p.add_polarity()\n",
    "data = p.data"
   ]
  },
  {
   "cell_type": "code",
   "execution_count": 10,
   "metadata": {
    "ExecuteTime": {
     "end_time": "2018-11-28T01:35:50.634663Z",
     "start_time": "2018-11-28T01:35:50.360363Z"
    }
   },
   "outputs": [],
   "source": [
    "#load the processed data\n",
    "data = pd.read_csv('../data/cascade_data_polarity_clean.csv')\n",
    "r, topics = transform_full_to_sparse(data, topics=True)"
   ]
  },
  {
   "cell_type": "markdown",
   "metadata": {},
   "source": [
    "# Base Model Inference\n",
    "\n",
    "Due to difficulties with the Tensorflow's random variable class, we used MAP estimation with L-BFGS as the primary inference method."
   ]
  },
  {
   "cell_type": "code",
   "execution_count": 23,
   "metadata": {},
   "outputs": [],
   "source": [
    "# feed the data into the log-prior model\n",
    "max_T = data.t.max()\n",
    "numNodes = 200\n",
    "model = ProbabilityModel(r[:2000], numNodes, T = max_T)"
   ]
  },
  {
   "cell_type": "code",
   "execution_count": 24,
   "metadata": {
    "ExecuteTime": {
     "end_time": "2018-11-27T22:54:54.699787Z",
     "start_time": "2018-11-27T22:54:54.697232Z"
    }
   },
   "outputs": [
    {
     "name": "stdout",
     "output_type": "stream",
     "text": [
      "INFO:tensorflow:Optimization terminated with:\n",
      "  Message: b'CONVERGENCE: REL_REDUCTION_OF_F_<=_FACTR*EPSMCH'\n",
      "  Objective function value: 8.958935\n",
      "  Number of iterations: 26\n",
      "  Number of functions evaluations: 92\n"
     ]
    }
   ],
   "source": [
    "#run L-BFGS\n",
    "a_prior = model.map_estimate_BFGS(max_iter=1000)"
   ]
  },
  {
   "cell_type": "code",
   "execution_count": null,
   "metadata": {},
   "outputs": [],
   "source": [
    "# Batch updates for the whole dataset\n",
    "a_prior = model.batch_update(batch_size=400)"
   ]
  },
  {
   "cell_type": "markdown",
   "metadata": {},
   "source": [
    "# Cascade Topic Model Inference\n",
    "\n",
    "The cascade model is trained on two topics."
   ]
  },
  {
   "cell_type": "code",
   "execution_count": 25,
   "metadata": {},
   "outputs": [],
   "source": [
    "max_T = data.t.max()\n",
    "numNodes = 200\n",
    "model_topic = ProbabilityModel(r[:500], numNodes, T=max_T, topics=topics[:500])"
   ]
  },
  {
   "cell_type": "code",
   "execution_count": 26,
   "metadata": {},
   "outputs": [
    {
     "name": "stdout",
     "output_type": "stream",
     "text": [
      "INFO:tensorflow:Optimization terminated with:\n",
      "  Message: b'CONVERGENCE: REL_REDUCTION_OF_F_<=_FACTR*EPSMCH'\n",
      "  Objective function value: 5017919.500000\n",
      "  Number of iterations: 25\n",
      "  Number of functions evaluations: 94\n"
     ]
    }
   ],
   "source": [
    "a_topic = model_topic.map_estimate_BFGS_topics(max_iter=1000)"
   ]
  },
  {
   "cell_type": "markdown",
   "metadata": {},
   "source": [
    "# Base Model Criticism"
   ]
  },
  {
   "cell_type": "markdown",
   "metadata": {},
   "source": [
    "We compared cascades, not used in training, to the posterior predictive of our model. The metrics include,\n",
    "\n",
    "* MSE and MAE: How good can we predict infection times? \n",
    "* Kendall rank corellation coefficient: How good can we predict infection order?\n",
    "* Precision: How good can we predict the cascade set?\n"
   ]
  },
  {
   "cell_type": "code",
   "execution_count": 27,
   "metadata": {},
   "outputs": [],
   "source": [
    "# get test set and observable variables\n",
    "test_set = r[-50:]\n",
    "seeds = get_seed_set(test_set)\n",
    "times = get_max_times(test_set)\n",
    "test_set = convert_to_matrix(test_set, numNodes, times)\n",
    "test_topics = topics[-50:,:]"
   ]
  },
  {
   "cell_type": "code",
   "execution_count": 28,
   "metadata": {},
   "outputs": [],
   "source": [
    "# generate posterior predictive cascades\n",
    "gm = GenerativeModel(model.a, numNodes)\n",
    "test_cascades = gm.build_cascade_series(seeds, times)"
   ]
  },
  {
   "cell_type": "code",
   "execution_count": 29,
   "metadata": {},
   "outputs": [],
   "source": [
    "# generate a benchmark cascade according to the seed set\n",
    "sess=tf.Session()\n",
    "alpha = ed.Gamma(tf.ones((numNodes,numNodes)),tf.ones((numNodes,numNodes)))\n",
    "a_bench = sess.run(alpha)\n",
    "\n",
    "gm = GenerativeModel(a_bench, numNodes)\n",
    "benchmark_cascades = gm.build_cascade_series(seeds, times)"
   ]
  },
  {
   "cell_type": "code",
   "execution_count": 30,
   "metadata": {},
   "outputs": [
    {
     "name": "stdout",
     "output_type": "stream",
     "text": [
      "metric\t set\t \t value\n",
      "_______|_____________|______________________\n",
      "MSE\t benchmark\t17364.0\n",
      "MSE\t model  \t1231.0\n",
      "MAE\t benchmark\t120.0\n",
      "MAE\t model  \t8.0\n",
      "KRCC \t benchmark\t0.003\n",
      "KRCC \t model  \t0.719\n",
      "Prec\t benchmark\t0.06\n",
      "Prec\t model  \t0.138\n"
     ]
    }
   ],
   "source": [
    "evaluate(test_set, test_cascades, benchmark_cascades, times)"
   ]
  },
  {
   "cell_type": "markdown",
   "metadata": {},
   "source": [
    "#  Cascade Topic Criticism"
   ]
  },
  {
   "cell_type": "code",
   "execution_count": 31,
   "metadata": {},
   "outputs": [],
   "source": [
    "# generate cascades according to the seed set\n",
    "gm = GenerativeModel(a_topic, numNodes)\n",
    "test_cascades_t = gm.build_topic_cascades(seeds, times, test_topics)"
   ]
  },
  {
   "cell_type": "code",
   "execution_count": 32,
   "metadata": {},
   "outputs": [
    {
     "name": "stdout",
     "output_type": "stream",
     "text": [
      "metric\t set\t \t value\n",
      "_______|_____________|______________________\n",
      "MSE\t benchmark\t17364.0\n",
      "MSE\t model  \t1230.0\n",
      "MAE\t benchmark\t120.0\n",
      "MAE\t model  \t8.0\n",
      "KRCC \t benchmark\t0.003\n",
      "KRCC \t model  \t0.72\n",
      "Prec\t benchmark\t0.06\n",
      "Prec\t model  \t0.14\n"
     ]
    }
   ],
   "source": [
    "evaluate(test_set, test_cascades_t, benchmark_cascades, times)"
   ]
  },
  {
   "cell_type": "markdown",
   "metadata": {},
   "source": [
    "# Issues with Edward\n",
    "\n",
    "## Non-Differentiability of Shortest Path\n",
    "\n",
    "Our struggle with Edward is concentrated in defining the shortest path operation on the transmission times. Since this is operation is non-differentiable, most inference methods break. There is some work on estimating shortest path using an RNN, which we may explore.\n",
    "\n",
    "## Issues with Random Variable Class\n",
    "\n",
    "We transitioned from working with generating a shortest path to evaluating the log-probability of the cascade. Within Edward, we can define a new random variable class that requires the log-probability and sampling distribution. This was time-consuming and difficult to debug. So, we stopped working with Edward's random variable class and built the algorithm by manually defining the log-probability in tensorflow.\n"
   ]
  },
  {
   "cell_type": "markdown",
   "metadata": {},
   "source": [
    "# Conclusion and Future Work\n",
    "\n",
    "The models do a good job at fitting to the cascade dataset relative to a random graph, however the topic model does not improve the metrics on our small dataset. Scalability may become an issue as the network grows. That's why, for future modeling work, we consider adding priors to the categorical variables and allowing for mixture topic assignments. For future criticism work, we would consider toggling hyperparameters to ensure inferred network diameter aligns with expectations."
   ]
  },
  {
   "cell_type": "markdown",
   "metadata": {},
   "source": [
    "# References"
   ]
  },
  {
   "cell_type": "markdown",
   "metadata": {
    "ExecuteTime": {
     "end_time": "2018-11-27T22:45:14.386373Z",
     "start_time": "2018-11-27T22:45:14.379936Z"
    }
   },
   "source": [
    "[1] Rodriguez, M. G., Balduzzi, D., & Schölkopf, B. (2011). Uncovering the temporal dynamics of diffusion networks. arXiv preprint arXiv:1105.0697.\n",
    "\n",
    "[2] Kempe, D., Kleinberg, J., & Tardos, É. (2003, August). Maximizing the spread of influence through a social network. In Proceedings of the ninth ACM SIGKDD international conference on Knowledge discovery and data mining (pp. 137-146). ACM.\n",
    "\n",
    "[3] Amini, Hamed, and Marc Lelarge. \"The diameter of weighted random graphs.\" The Annals of Applied Probability 25.3 (2015): 1686-1727.\n"
   ]
  }
 ],
 "metadata": {
  "anaconda-cloud": {},
  "kernelspec": {
   "display_name": "py35tensorflow",
   "language": "python",
   "name": "py35tensorflow"
  },
  "language_info": {
   "codemirror_mode": {
    "name": "ipython",
    "version": 3
   },
   "file_extension": ".py",
   "mimetype": "text/x-python",
   "name": "python",
   "nbconvert_exporter": "python",
   "pygments_lexer": "ipython3",
   "version": "3.5.5"
  },
  "latex_envs": {
   "LaTeX_envs_menu_present": true,
   "autoclose": false,
   "autocomplete": true,
   "bibliofile": "biblio.bib",
   "cite_by": "apalike",
   "current_citInitial": 1,
   "eqLabelWithNumbers": true,
   "eqNumInitial": 1,
   "hotkeys": {
    "equation": "Ctrl-E",
    "itemize": "Ctrl-I"
   },
   "labels_anchors": false,
   "latex_user_defs": false,
   "report_style_numbering": false,
   "user_envs_cfg": false
  },
  "toc": {
   "base_numbering": 1,
   "nav_menu": {},
   "number_sections": true,
   "sideBar": true,
   "skip_h1_title": false,
   "title_cell": "Table of Contents",
   "title_sidebar": "Contents",
   "toc_cell": true,
   "toc_position": {},
   "toc_section_display": true,
   "toc_window_display": false
  }
 },
 "nbformat": 4,
 "nbformat_minor": 1
}
