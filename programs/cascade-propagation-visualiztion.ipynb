{
 "cells": [
  {
   "cell_type": "markdown",
   "metadata": {
    "toc": true
   },
   "source": [
    "<h1>Table of Contents<span class=\"tocSkip\"></span></h1>\n",
    "<div class=\"toc\"><ul class=\"toc-item\"><li><span><a href=\"#Helper-Functions\" data-toc-modified-id=\"Helper-Functions-1\"><span class=\"toc-item-num\">1&nbsp;&nbsp;</span>Helper Functions</a></span></li><li><span><a href=\"#Project-Narrative\" data-toc-modified-id=\"Project-Narrative-2\"><span class=\"toc-item-num\">2&nbsp;&nbsp;</span>Project Narrative</a></span><ul class=\"toc-item\"><li><span><a href=\"#Start-with-a-graph\" data-toc-modified-id=\"Start-with-a-graph-2.1\"><span class=\"toc-item-num\">2.1&nbsp;&nbsp;</span>Start with a graph</a></span></li><li><span><a href=\"#Observe-cascades\" data-toc-modified-id=\"Observe-cascades-2.2\"><span class=\"toc-item-num\">2.2&nbsp;&nbsp;</span>Observe cascades</a></span></li><li><span><a href=\"#Uncover-hidden-transmission-weights\" data-toc-modified-id=\"Uncover-hidden-transmission-weights-2.3\"><span class=\"toc-item-num\">2.3&nbsp;&nbsp;</span>Uncover hidden transmission weights</a></span></li></ul></li></ul></div>"
   ]
  },
  {
   "cell_type": "code",
   "execution_count": 491,
   "metadata": {
    "ExecuteTime": {
     "end_time": "2018-11-25T13:22:12.486166Z",
     "start_time": "2018-11-25T13:22:12.483137Z"
    }
   },
   "outputs": [],
   "source": [
    "import matplotlib.pyplot as plt\n",
    "import matplotlib.animation\n",
    "import networkx as nx\n",
    "import numpy as np\n",
    "import edward as ed\n",
    "from edward.models import Exponential\n",
    "import tensorflow as tf\n",
    "import time"
   ]
  },
  {
   "cell_type": "code",
   "execution_count": 492,
   "metadata": {
    "ExecuteTime": {
     "end_time": "2018-11-25T13:22:12.827414Z",
     "start_time": "2018-11-25T13:22:12.824575Z"
    }
   },
   "outputs": [],
   "source": [
    "sess = ed.get_session()"
   ]
  },
  {
   "cell_type": "markdown",
   "metadata": {},
   "source": [
    "# Helper Functions"
   ]
  },
  {
   "cell_type": "code",
   "execution_count": 493,
   "metadata": {
    "ExecuteTime": {
     "end_time": "2018-11-25T13:22:13.558787Z",
     "start_time": "2018-11-25T13:22:13.553472Z"
    }
   },
   "outputs": [],
   "source": [
    "def build_cascade(time, seed, T):\n",
    "    # Store number of nodes\n",
    "    n = time.shape[0]\n",
    "\n",
    "    # Transpose times and reduce minimum\n",
    "    times_T = tf.minimum(tf.transpose(time),T)\n",
    "\n",
    "    # Initialize transmission times to be max time except for seed node\n",
    "    transmission = tf.ones(n)*T\n",
    "    transmission = tf.subtract(transmission,tf.one_hot(seed, n)*T)\n",
    "\n",
    "    \n",
    "    # Continually update transmissions\n",
    "    for _ in range(n):\n",
    "\n",
    "        # Tile transmission\n",
    "        transmission_tiled = tf.reshape(tf.tile(transmission,[n]),[n,n])\n",
    "\n",
    "        # Add transposed times and tiled transmissions\n",
    "        potential_transmission = tf.add(transmission_tiled,times_T)\n",
    "\n",
    "        # Find minimum path from all new \n",
    "        potential_transmission_row = tf.reduce_min(potential_transmission, reduction_indices=[1])\n",
    "\n",
    "        # Concatenate previous transmission and potential new transmission\n",
    "        potential_transmission_stack = tf.stack([transmission,potential_transmission_row],axis=0)\n",
    "\n",
    "        # Take the minimum of the original transmission and the potential new transmission\n",
    "        transmission = tf.reduce_min(potential_transmission_stack, reduction_indices=[0])\n",
    "\n",
    "    return transmission"
   ]
  },
  {
   "cell_type": "code",
   "execution_count": 495,
   "metadata": {
    "ExecuteTime": {
     "end_time": "2018-11-25T13:22:14.365969Z",
     "start_time": "2018-11-25T13:22:14.362343Z"
    }
   },
   "outputs": [],
   "source": [
    "def printCascade(cascade, T):\n",
    "    print(\"node\\t time\")\n",
    "    print(\"----\\t ----\")\n",
    "    \n",
    "    cascade_order = cascade.argsort().tolist()\n",
    "    i=0\n",
    "    \n",
    "    while cascade[cascade_order[i]]<T:\n",
    "        print('{:4d}\\t {:0.2f}'.format(cascade_order[i], cascade[cascade_order[i]]))\n",
    "        i+=1"
   ]
  },
  {
   "cell_type": "code",
   "execution_count": 496,
   "metadata": {
    "ExecuteTime": {
     "end_time": "2018-11-25T13:22:14.733861Z",
     "start_time": "2018-11-25T13:22:14.730039Z"
    }
   },
   "outputs": [],
   "source": [
    "def buildGraph(alpha):\n",
    "    graph = nx.from_numpy_matrix(alpha)\n",
    "    layout = nx.spring_layout(graph)\n",
    "    weights = [graph[u][v]['weight']*5/alpha.max() for u,v in graph.edges()]\n",
    "    labels = {node: str(node) for node in graph.nodes()}\n",
    "    \n",
    "    return graph, layout, weights, labels"
   ]
  },
  {
   "cell_type": "code",
   "execution_count": 497,
   "metadata": {
    "ExecuteTime": {
     "end_time": "2018-11-25T13:22:15.098758Z",
     "start_time": "2018-11-25T13:22:15.096056Z"
    }
   },
   "outputs": [],
   "source": [
    "def drawEmptyGraph(graph, layout, labels):   \n",
    "    nx.draw(graph, layout, edges=graph.edges, labels=labels,  font_color=\"white\")"
   ]
  },
  {
   "cell_type": "code",
   "execution_count": 498,
   "metadata": {
    "ExecuteTime": {
     "end_time": "2018-11-25T13:22:15.427068Z",
     "start_time": "2018-11-25T13:22:15.424180Z"
    }
   },
   "outputs": [],
   "source": [
    "def drawWeightedGraph(graph, layout, weights, labels):   \n",
    "    nx.draw(graph, layout, edges=graph.edges, width=weights,labels=labels,  font_color=\"white\")"
   ]
  },
  {
   "cell_type": "code",
   "execution_count": 499,
   "metadata": {
    "ExecuteTime": {
     "end_time": "2018-11-25T13:22:15.731142Z",
     "start_time": "2018-11-25T13:22:15.727888Z"
    }
   },
   "outputs": [],
   "source": [
    "def sampleCascade(alpha, T):\n",
    "    alpha_tf = tf.convert_to_tensor(alpha, dtype=tf.float32)\n",
    "    tau = Exponential(alpha_tf)\n",
    "    cascade = sess.run(build_cascade(tau, 0, 10))\n",
    "    cascade_order = cascade.argsort().tolist()\n",
    "    \n",
    "    return cascade"
   ]
  },
  {
   "cell_type": "code",
   "execution_count": 516,
   "metadata": {
    "ExecuteTime": {
     "end_time": "2018-11-25T13:25:38.847286Z",
     "start_time": "2018-11-25T13:25:38.840706Z"
    }
   },
   "outputs": [],
   "source": [
    "def drawNetworkProp(graph, layout, labels, cascade, T):\n",
    "    cascade_order = cascade.argsort().tolist()\n",
    "\n",
    "    fig, ax = plt.subplots(figsize=(8,7))\n",
    "    \n",
    "    for num in range(len(graph.nodes)):\n",
    "        if cascade[cascade_order[num]] == T: break\n",
    "        time.sleep(1)\n",
    "        \n",
    "        # Draw edges\n",
    "        nx.draw_networkx_edges(graph,layout,width=1.0,alpha=0.5, labels=True, ax=ax)\n",
    "\n",
    "        # Draw infected nodes\n",
    "        inf=nx.draw_networkx_nodes(nx_graph,\n",
    "                                   layout,\n",
    "                                   node_color = 'r',\n",
    "                                   nodelist=cascade_order[:num+1],\n",
    "                                   alpha=1,\n",
    "                                   ax=ax)\n",
    "\n",
    "        # Draw uninfected nodes\n",
    "        uninf=nx.draw_networkx_nodes(nx_graph,\n",
    "                                     layout,\n",
    "                                     edge_color = 'b',\n",
    "                                     node_color = 'w',\n",
    "                                     nodelist=cascade_order[num+1:],\n",
    "                                     alpha=1,\n",
    "                                     ax=ax)\n",
    "        try:\n",
    "            uninf.set_edgecolor(\"black\")\n",
    "        except:\n",
    "            None\n",
    "\n",
    "        # Draw node \n",
    "        nx.draw_networkx_labels(nx_graph,\n",
    "                                layout,\n",
    "                                labels=labels,  font_color=\"white\", ax=ax)\n",
    "\n",
    "        # Scale plot ax\n",
    "        ax.set_xticks([])\n",
    "        ax.set_yticks([])\n",
    "\n",
    "        # Redraw cascade\n",
    "        display.clear_output(wait=True)\n",
    "        display.display(fig)\n",
    "\n",
    "    display.clear_output(wait=True)\n",
    "    return printCascade(cascade, T)"
   ]
  },
  {
   "cell_type": "markdown",
   "metadata": {},
   "source": [
    "# Project Narrative"
   ]
  },
  {
   "cell_type": "code",
   "execution_count": 517,
   "metadata": {
    "ExecuteTime": {
     "end_time": "2018-11-25T13:25:39.206839Z",
     "start_time": "2018-11-25T13:25:39.200328Z"
    }
   },
   "outputs": [],
   "source": [
    "nx_graph, nx_layout, nx_weights, nx_labels = buildGraph(alpha)"
   ]
  },
  {
   "cell_type": "code",
   "execution_count": 522,
   "metadata": {
    "ExecuteTime": {
     "end_time": "2018-11-25T13:26:17.521033Z",
     "start_time": "2018-11-25T13:26:17.498098Z"
    }
   },
   "outputs": [],
   "source": [
    "alpha = np.array([[0, .1, 0, 0, 0, .2, 0, 0, 0, 0],\n",
    "                  [0, 0, .5, 0, 0, 0, 0, .25, 0, 0],\n",
    "                  [0, 0, 0, .4, 0, 0, 0, 0, 0, 0],\n",
    "                  [0, 0, 0, 0, .5, 0, 0, .1, 0, 0],\n",
    "                  [0, 0, 0, 0, 0, .3, 0, 0, .2, 0],\n",
    "                  [0, 0, 0, 0, 0, 0, .7, 0, 0, 0],\n",
    "                  [0, 0, 0, 0, 0, 0, 0, 1, 0, 0],\n",
    "                  [0, 0, 0, 0, 0, 0, 0, 0, .6, 0],\n",
    "                  [0, 0, 0, 0, 0, 0, 0, 0, 0, .3],\n",
    "                  [0, 0, 0, 0, 0, 0, 0, 0, 0, 0]], dtype=np.float32)\n",
    "\n",
    "alpha_tf = tf.convert_to_tensor(alpha, dtype=tf.float32)\n",
    "\n",
    "tau = Exponential(alpha)"
   ]
  },
  {
   "cell_type": "markdown",
   "metadata": {},
   "source": [
    "## Start with a graph\n",
    "\n",
    "We start the problem with a network of nodes and edges. Where we don't observe a semi-connected graph, assume the graph is fully connected"
   ]
  },
  {
   "cell_type": "code",
   "execution_count": 523,
   "metadata": {
    "ExecuteTime": {
     "end_time": "2018-11-25T13:26:18.490519Z",
     "start_time": "2018-11-25T13:26:18.417128Z"
    }
   },
   "outputs": [
    {
     "data": {
      "image/png": "[encoded data removed]",
      "text/plain": [
       "<Figure size 432x288 with 1 Axes>"
      ]
     },
     "metadata": {},
     "output_type": "display_data"
    }
   ],
   "source": [
    "drawEmptyGraph(nx_graph, nx_layout, nx_labels)"
   ]
  },
  {
   "cell_type": "markdown",
   "metadata": {},
   "source": [
    "## Observe cascades\n",
    "\n",
    "We observe a series of infections that propagate throughout the network over time."
   ]
  },
  {
   "cell_type": "code",
   "execution_count": 524,
   "metadata": {
    "ExecuteTime": {
     "end_time": "2018-11-25T13:26:19.277713Z",
     "start_time": "2018-11-25T13:26:18.952671Z"
    }
   },
   "outputs": [],
   "source": [
    "nx_cascade = drawCascade(alpha, 10)"
   ]
  },
  {
   "cell_type": "code",
   "execution_count": 525,
   "metadata": {
    "ExecuteTime": {
     "end_time": "2018-11-25T13:26:24.799419Z",
     "start_time": "2018-11-25T13:26:19.279830Z"
    }
   },
   "outputs": [
    {
     "name": "stdout",
     "output_type": "stream",
     "text": [
      "node\t time\n",
      "----\t ----\n",
      "   0\t 0.00\n",
      "   5\t 7.86\n",
      "   6\t 7.96\n",
      "   7\t 8.19\n",
      "   8\t 8.97\n"
     ]
    },
    {
     "data": {
      "image/png": "[encoded data removed]",
      "text/plain": [
       "<Figure size 576x504 with 1 Axes>"
      ]
     },
     "metadata": {},
     "output_type": "display_data"
    }
   ],
   "source": [
    "drawNetworkProp(nx_graph, nx_layout, nx_labels, nx_cascade, 10)"
   ]
  },
  {
   "cell_type": "markdown",
   "metadata": {},
   "source": [
    "## Uncover hidden transmission weights\n",
    "\n",
    "The goal is to infer the underlying transmission weights that show the propensity to become infected by its parent given the parent is infected"
   ]
  },
  {
   "cell_type": "code",
   "execution_count": 526,
   "metadata": {
    "ExecuteTime": {
     "end_time": "2018-11-25T13:26:24.888494Z",
     "start_time": "2018-11-25T13:26:24.801368Z"
    }
   },
   "outputs": [
    {
     "data": {
      "image/png": "[encoded data removed]",
      "text/plain": [
       "<Figure size 432x288 with 1 Axes>"
      ]
     },
     "metadata": {},
     "output_type": "display_data"
    }
   ],
   "source": [
    "drawWeightedGraph(nx_graph, nx_layout, nx_weights, nx_labels)"
   ]
  },
  {
   "cell_type": "code",
   "execution_count": null,
   "metadata": {},
   "outputs": [],
   "source": []
  }
 ],
 "metadata": {
  "kernelspec": {
   "display_name": "Python 3",
   "language": "python",
   "name": "python3"
  },
  "language_info": {
   "codemirror_mode": {
    "name": "ipython",
    "version": 3
   },
   "file_extension": ".py",
   "mimetype": "text/x-python",
   "name": "python",
   "nbconvert_exporter": "python",
   "pygments_lexer": "ipython3",
   "version": "3.6.6"
  },
  "latex_envs": {
   "LaTeX_envs_menu_present": true,
   "autoclose": false,
   "autocomplete": true,
   "bibliofile": "biblio.bib",
   "cite_by": "apalike",
   "current_citInitial": 1,
   "eqLabelWithNumbers": true,
   "eqNumInitial": 1,
   "hotkeys": {
    "equation": "Ctrl-E",
    "itemize": "Ctrl-I"
   },
   "labels_anchors": false,
   "latex_user_defs": false,
   "report_style_numbering": false,
   "user_envs_cfg": false
  },
  "toc": {
   "base_numbering": 1,
   "nav_menu": {},
   "number_sections": true,
   "sideBar": true,
   "skip_h1_title": false,
   "title_cell": "Table of Contents",
   "title_sidebar": "Contents",
   "toc_cell": true,
   "toc_position": {},
   "toc_section_display": true,
   "toc_window_display": false
  }
 },
 "nbformat": 4,
 "nbformat_minor": 2
}
