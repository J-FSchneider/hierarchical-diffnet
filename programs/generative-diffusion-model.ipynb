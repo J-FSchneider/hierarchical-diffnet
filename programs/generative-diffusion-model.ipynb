{
 "cells": [
  {
   "cell_type": "markdown",
   "metadata": {
    "toc": true
   },
   "source": [
    "<h1>Table of Contents<span class=\"tocSkip\"></span></h1>\n",
    "<div class=\"toc\"><ul class=\"toc-item\"></ul></div>"
   ]
  },
  {
   "cell_type": "code",
   "execution_count": 73,
   "metadata": {
    "ExecuteTime": {
     "end_time": "2018-11-13T20:41:34.334471Z",
     "start_time": "2018-11-13T20:41:34.331435Z"
    }
   },
   "outputs": [],
   "source": [
    "import tensorflow as tf\n",
    "import edward as ed\n",
    "import numpy as np\n",
    "\n",
    "from edward.models import Beta, Exponential, Categorical, Multinomial\n",
    "\n",
    "import networkx as nx"
   ]
  },
  {
   "cell_type": "code",
   "execution_count": null,
   "metadata": {
    "ExecuteTime": {
     "start_time": "2018-11-13T22:24:22.830Z"
    }
   },
   "outputs": [],
   "source": [
    "# Number of nodes, max time and initial seed set (will update in future)\n",
    "n=10\n",
    "T = 100\n",
    "seed = 0\n",
    "\n",
    "# Store alpha as a set of beta distributions\n",
    "alpha = Beta(tf.ones([10,10]),tf.ones([10,10]))\n",
    "\n",
    "# Keep a list of infected nodes\n",
    "infected = [seed]\n",
    "\n",
    "# Initialize transmission times to be max time except for seed node\n",
    "transmission = tf.ones(n)*T\n",
    "transmission = tf.subtract(transmission,tf.one_hot(seed, n)*T)\n",
    "\n",
    "# Keep track of time since last infected\n",
    "latest_infected_time = 0.\n",
    "\n",
    "# Iterate over all nodes\n",
    "for i in range(n-1):\n",
    "\n",
    "    # Calculate transmission times for the newest infected node\n",
    "    latest_transmission = tf.add(latest_infected_time,Exponential(tf.gather_nd(alpha,[[infected[i]]])))\n",
    "    \n",
    "    # Calculate minimum times between this\n",
    "    transmission = tf.minimum(transmission, latest_transmission)\n",
    "    \n",
    "    # Use to identify the lowest i nodes that have been infected. The latest on the list is the latest infected\n",
    "    top_k = tf.nn.top_k(-transmission,k=i+2)\n",
    "    \n",
    "    # Store infected node and infected time    \n",
    "    latest_infected = top_k.indices.eval()[0][i+1]\n",
    "    latest_infected_time = -top_k.values.eval()[0][i+1]\n",
    "    \n",
    "    # Store infected node and infected time\n",
    "    infected.append(latest_infected)\n",
    "    \n",
    "print(infected)\n",
    "print(transmission.eval())"
   ]
  },
  {
   "cell_type": "code",
   "execution_count": 299,
   "metadata": {
    "ExecuteTime": {
     "end_time": "2018-11-13T22:17:13.251785Z",
     "start_time": "2018-11-13T22:17:12.975403Z"
    }
   },
   "outputs": [
    {
     "data": {
      "text/plain": [
       "array([[0.        , 0.8429537 , 0.12118183, 0.08901425, 0.7668139 ,\n",
       "        1.7763547 , 0.34023312, 0.694381  , 1.0494732 , 1.4189427 ]],\n",
       "      dtype=float32)"
      ]
     },
     "execution_count": 299,
     "metadata": {},
     "output_type": "execute_result"
    }
   ],
   "source": [
    "sess.run(transmission)"
   ]
  }
 ],
 "metadata": {
  "kernelspec": {
   "display_name": "Python 3",
   "language": "python",
   "name": "python3"
  },
  "language_info": {
   "codemirror_mode": {
    "name": "ipython",
    "version": 3
   },
   "file_extension": ".py",
   "mimetype": "text/x-python",
   "name": "python",
   "nbconvert_exporter": "python",
   "pygments_lexer": "ipython3",
   "version": "3.6.6"
  },
  "latex_envs": {
   "LaTeX_envs_menu_present": true,
   "autoclose": false,
   "autocomplete": true,
   "bibliofile": "biblio.bib",
   "cite_by": "apalike",
   "current_citInitial": 1,
   "eqLabelWithNumbers": true,
   "eqNumInitial": 1,
   "hotkeys": {
    "equation": "Ctrl-E",
    "itemize": "Ctrl-I"
   },
   "labels_anchors": false,
   "latex_user_defs": false,
   "report_style_numbering": false,
   "user_envs_cfg": false
  },
  "toc": {
   "base_numbering": 1,
   "nav_menu": {},
   "number_sections": true,
   "sideBar": true,
   "skip_h1_title": false,
   "title_cell": "Table of Contents",
   "title_sidebar": "Contents",
   "toc_cell": true,
   "toc_position": {},
   "toc_section_display": true,
   "toc_window_display": false
  }
 },
 "nbformat": 4,
 "nbformat_minor": 2
}
