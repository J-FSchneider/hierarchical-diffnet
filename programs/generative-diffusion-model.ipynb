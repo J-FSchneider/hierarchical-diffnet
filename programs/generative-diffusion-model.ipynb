{
 "cells": [
  {
   "cell_type": "markdown",
   "metadata": {
    "toc": true
   },
   "source": [
    "<h1>Table of Contents<span class=\"tocSkip\"></span></h1>\n",
    "<div class=\"toc\"><ul class=\"toc-item\"><li><span><a href=\"#Build-function-for-building-cascade\" data-toc-modified-id=\"Build-function-for-building-cascade-1\"><span class=\"toc-item-num\">1&nbsp;&nbsp;</span>Build function for building cascade</a></span></li><li><span><a href=\"#Import-dataset\" data-toc-modified-id=\"Import-dataset-2\"><span class=\"toc-item-num\">2&nbsp;&nbsp;</span>Import dataset</a></span><ul class=\"toc-item\"><li><span><a href=\"#Store-cascade-data\" data-toc-modified-id=\"Store-cascade-data-2.1\"><span class=\"toc-item-num\">2.1&nbsp;&nbsp;</span>Store cascade data</a></span></li><li><span><a href=\"#Store-cascade-seed-data\" data-toc-modified-id=\"Store-cascade-seed-data-2.2\"><span class=\"toc-item-num\">2.2&nbsp;&nbsp;</span>Store cascade seed data</a></span></li></ul></li><li><span><a href=\"#Model\" data-toc-modified-id=\"Model-3\"><span class=\"toc-item-num\">3&nbsp;&nbsp;</span>Model</a></span></li></ul></div>"
   ]
  },
  {
   "cell_type": "code",
   "execution_count": 1,
   "metadata": {
    "ExecuteTime": {
     "end_time": "2018-11-15T15:07:22.874018Z",
     "start_time": "2018-11-15T15:07:16.512103Z"
    }
   },
   "outputs": [],
   "source": [
    "import tensorflow as tf\n",
    "import edward as ed\n",
    "import numpy as np\n",
    "\n",
    "from edward.models import Beta, Exponential, Categorical, Multinomial\n",
    "\n",
    "import networkx as nx"
   ]
  },
  {
   "cell_type": "markdown",
   "metadata": {},
   "source": [
    "# Build function for building cascade"
   ]
  },
  {
   "cell_type": "code",
   "execution_count": 347,
   "metadata": {
    "ExecuteTime": {
     "end_time": "2018-11-15T17:42:35.246643Z",
     "start_time": "2018-11-15T17:42:35.239196Z"
    }
   },
   "outputs": [],
   "source": [
    "def build_cascade(alpha, seed, T):\n",
    "    # Store number of nodes\n",
    "    n = alpha.shape[0]\n",
    "    \n",
    "    \n",
    "    # Keep a list of infected nodes\n",
    "    infected = [seed]\n",
    "\n",
    "    # Initialize transmission times to be max time except for seed node\n",
    "    transmission = tf.ones(n)*T\n",
    "    transmission = tf.subtract(transmission,tf.one_hot(seed, n)*T)\n",
    "\n",
    "    # Keep track of time since last infected\n",
    "    latest_infected_time = 0.\n",
    "\n",
    "    # Iterate over all nodes\n",
    "    for i in range(n-1):\n",
    "\n",
    "        # Calculate transmission times for the newest infected node\n",
    "        latest_transmission = tf.add(latest_infected_time,Exponential(tf.gather_nd(alpha,[[infected[i]]])))\n",
    "\n",
    "        # Calculate minimum times between this\n",
    "        transmission = tf.minimum(transmission, latest_transmission)\n",
    "\n",
    "        # Use to identify the lowest i nodes that have been infected. The latest on the list is the latest infected\n",
    "        top_k = tf.nn.top_k(-transmission,k=i+2)\n",
    "\n",
    "        # Store infected node and infected time    \n",
    "        latest_infected = top_k.indices[0][i+1]\n",
    "        latest_infected_time = -top_k.values[0][i+1]\n",
    "\n",
    "        # Store infected node and infected time\n",
    "        infected.append(latest_infected)\n",
    "        \n",
    "    return transmission[0]"
   ]
  },
  {
   "cell_type": "code",
   "execution_count": 348,
   "metadata": {
    "ExecuteTime": {
     "end_time": "2018-11-15T17:42:56.700086Z",
     "start_time": "2018-11-15T17:42:35.682261Z"
    }
   },
   "outputs": [
    {
     "data": {
      "text/plain": [
       "array([  0.      ,   3.717908, 100.      , 100.      , 100.      ,\n",
       "       100.      , 100.      , 100.      , 100.      , 100.      ],\n",
       "      dtype=float32)"
      ]
     },
     "execution_count": 348,
     "metadata": {},
     "output_type": "execute_result"
    }
   ],
   "source": [
    "sess = ed.get_session()\n",
    "alpha = tf.convert_to_tensor([[0, 1, 0, 0, 0, 0, 0, 0, 0, 0],\n",
    "                              [1, 0, 0, 0, 0, 0, 0, 0, 0, 0],\n",
    "                              [0, 0, 0, 0, 0, 0, 0, 0, 0, 0],\n",
    "                              [0, 0, 0, 0, 0, 0, 0, 0, 0, 0],\n",
    "                              [0, 0, 0, 0, 0, 0, 0, 0, 0, 0],\n",
    "                              [0, 0, 0, 0, 0, 0, 0, 0, 0, 0],\n",
    "                              [0, 0, 0, 0, 0, 0, 0, 0, 0, 0],\n",
    "                              [0, 0, 0, 0, 0, 0, 0, 0, 0, 0],\n",
    "                              [0, 0, 0, 0, 0, 0, 0, 0, 0, 0],\n",
    "                              [0, 0, 0, 0, 0, 0, 0, 0, 0, 0]],tf.float32)\n",
    "sess.run(build_cascade(alpha, 0, 100))"
   ]
  },
  {
   "cell_type": "markdown",
   "metadata": {},
   "source": [
    "# Import dataset"
   ]
  },
  {
   "cell_type": "code",
   "execution_count": 160,
   "metadata": {
    "ExecuteTime": {
     "end_time": "2018-11-15T15:49:02.973768Z",
     "start_time": "2018-11-15T15:49:02.946934Z"
    }
   },
   "outputs": [],
   "source": [
    "with open('kronecker-core-periphery-n1024-h10-r0_01-0_25-1000-cascades.txt','r') as f:\n",
    "    \n",
    "    # Store number of nodes\n",
    "    numNodes = -1\n",
    "    while True:\n",
    "        if f.readline() == \"\\n\":\n",
    "            break\n",
    "        numNodes+=1\n",
    "\n",
    "    # Collect cascades into list\n",
    "    v = []\n",
    "    for line in f.readlines():\n",
    "        v.append([float(l) for l in line.rstrip('\\n').split(\",\")])"
   ]
  },
  {
   "cell_type": "markdown",
   "metadata": {},
   "source": [
    "## Store cascade data"
   ]
  },
  {
   "cell_type": "code",
   "execution_count": 338,
   "metadata": {
    "ExecuteTime": {
     "end_time": "2018-11-15T17:27:07.324178Z",
     "start_time": "2018-11-15T17:27:07.268844Z"
    }
   },
   "outputs": [],
   "source": [
    "np_cascades = np.ones((len(v),numNodes),np.float32)*10\n",
    "for row, cascade in enumerate(v):  \n",
    "    c_nodes = [int(cascade[i*2]) for i in range(len(cascade)//2)]\n",
    "    c_times = [cascade[i*2+1] for i in range(len(cascade)//2)]\n",
    "\n",
    "    for col in range(len(c_nodes)):\n",
    "        np_cascades[row][c_nodes[col]]=c_times[col]"
   ]
  },
  {
   "cell_type": "markdown",
   "metadata": {},
   "source": [
    "## Store cascade seed data"
   ]
  },
  {
   "cell_type": "code",
   "execution_count": 339,
   "metadata": {
    "ExecuteTime": {
     "end_time": "2018-11-15T17:27:08.933536Z",
     "start_time": "2018-11-15T17:27:08.930552Z"
    }
   },
   "outputs": [],
   "source": [
    "np_seeds = np.array([cascade[0] for cascade in v], dtype = np.int)"
   ]
  },
  {
   "cell_type": "markdown",
   "metadata": {},
   "source": [
    "# Model"
   ]
  },
  {
   "cell_type": "code",
   "execution_count": 340,
   "metadata": {
    "ExecuteTime": {
     "end_time": "2018-11-15T17:27:46.809214Z",
     "start_time": "2018-11-15T17:27:10.013472Z"
    }
   },
   "outputs": [],
   "source": [
    "T = 10\n",
    "ed_a = Beta(tf.ones([numNodes,numNodes])/2,tf.ones([numNodes,numNodes]))\n",
    "seed_ph = Categorical(probs=np.ones(numNodes)/numNodes)\n",
    "cascade_ph = build_cascade(ed_a, 753, T)"
   ]
  },
  {
   "cell_type": "code",
   "execution_count": 341,
   "metadata": {
    "ExecuteTime": {
     "end_time": "2018-11-15T17:28:18.256983Z",
     "start_time": "2018-11-15T17:27:46.811554Z"
    }
   },
   "outputs": [
    {
     "name": "stdout",
     "output_type": "stream",
     "text": [
      "(1023,)\n",
      "(1001, 1023)\n"
     ]
    }
   ],
   "source": [
    "test = sess.run(cascade_ph)\n",
    "print(test.shape)\n",
    "print(np_cascades.shape)"
   ]
  },
  {
   "cell_type": "code",
   "execution_count": 342,
   "metadata": {
    "ExecuteTime": {
     "end_time": "2018-11-15T17:28:35.611806Z",
     "start_time": "2018-11-15T17:28:18.259351Z"
    }
   },
   "outputs": [
    {
     "name": "stderr",
     "output_type": "stream",
     "text": [
      "/Users/brianallen131/src/edward/edward/util/random_variables.py:52: FutureWarning: Conversion of the second argument of issubdtype from `float` to `np.floating` is deprecated. In future, it will be treated as `np.float64 == np.dtype(float).type`.\n",
      "  not np.issubdtype(value.dtype, np.float) and \\\n"
     ]
    }
   ],
   "source": [
    "data = {cascade_ph: np_cascades[0]}\n",
    "inference = ed.MAP([ed_a], data)"
   ]
  },
  {
   "cell_type": "code",
   "execution_count": 343,
   "metadata": {
    "ExecuteTime": {
     "end_time": "2018-11-15T17:29:44.250232Z",
     "start_time": "2018-11-15T17:28:35.613828Z"
    }
   },
   "outputs": [
    {
     "name": "stdout",
     "output_type": "stream",
     "text": [
      "1000/1000 [100%] ██████████████████████████████ Elapsed: 51s | Loss: -34304092.000\n"
     ]
    }
   ],
   "source": [
    "tf.global_variables_initializer().run()\n",
    "\n",
    "inference.run(n_iter=1000)"
   ]
  },
  {
   "cell_type": "code",
   "execution_count": 344,
   "metadata": {
    "ExecuteTime": {
     "end_time": "2018-11-15T17:29:57.645689Z",
     "start_time": "2018-11-15T17:29:44.253018Z"
    }
   },
   "outputs": [],
   "source": [
    "optimized_alpha = sess.run(inference.latent_vars)"
   ]
  },
  {
   "cell_type": "code",
   "execution_count": 345,
   "metadata": {
    "ExecuteTime": {
     "end_time": "2018-11-15T17:29:57.654562Z",
     "start_time": "2018-11-15T17:29:57.647717Z"
    }
   },
   "outputs": [
    {
     "data": {
      "text/plain": [
       "array([406,  91,   1, ..., 369, 467, 202])"
      ]
     },
     "execution_count": 345,
     "metadata": {},
     "output_type": "execute_result"
    }
   ],
   "source": [
    "# np.array(optimized_alpha)\n",
    "list(optimized_alpha.values())[0][753].argsort()"
   ]
  },
  {
   "cell_type": "code",
   "execution_count": 346,
   "metadata": {
    "ExecuteTime": {
     "end_time": "2018-11-15T17:29:59.966766Z",
     "start_time": "2018-11-15T17:29:59.961804Z"
    }
   },
   "outputs": [
    {
     "data": {
      "text/plain": [
       "[753.0,\n",
       " 0.0,\n",
       " 261.0,\n",
       " 1.35072,\n",
       " 704.0,\n",
       " 3.966973,\n",
       " 145.0,\n",
       " 4.897442,\n",
       " 73.0,\n",
       " 5.925426,\n",
       " 286.0,\n",
       " 6.630252,\n",
       " 556.0,\n",
       " 7.843829,\n",
       " 80.0,\n",
       " 8.141659,\n",
       " 458.0,\n",
       " 8.775306,\n",
       " 8.0,\n",
       " 8.788488,\n",
       " 467.0,\n",
       " 8.902549,\n",
       " 554.0,\n",
       " 8.908081,\n",
       " 53.0,\n",
       " 9.237536,\n",
       " 1.0,\n",
       " 9.451033,\n",
       " 584.0,\n",
       " 9.591078,\n",
       " 843.0,\n",
       " 9.602514,\n",
       " 116.0,\n",
       " 9.780086,\n",
       " 130.0,\n",
       " 9.81525,\n",
       " 545.0,\n",
       " 9.828353,\n",
       " 579.0,\n",
       " 9.970419,\n",
       " 535.0,\n",
       " 9.984903]"
      ]
     },
     "execution_count": 346,
     "metadata": {},
     "output_type": "execute_result"
    }
   ],
   "source": [
    "v[0]\n",
    "# list(optimized_alpha.values())[0][753]\n",
    "# np_cascades "
   ]
  },
  {
   "cell_type": "code",
   "execution_count": null,
   "metadata": {},
   "outputs": [],
   "source": []
  }
 ],
 "metadata": {
  "kernelspec": {
   "display_name": "Python 3",
   "language": "python",
   "name": "python3"
  },
  "language_info": {
   "codemirror_mode": {
    "name": "ipython",
    "version": 3
   },
   "file_extension": ".py",
   "mimetype": "text/x-python",
   "name": "python",
   "nbconvert_exporter": "python",
   "pygments_lexer": "ipython3",
   "version": "3.6.6"
  },
  "latex_envs": {
   "LaTeX_envs_menu_present": true,
   "autoclose": false,
   "autocomplete": true,
   "bibliofile": "biblio.bib",
   "cite_by": "apalike",
   "current_citInitial": 1,
   "eqLabelWithNumbers": true,
   "eqNumInitial": 1,
   "hotkeys": {
    "equation": "Ctrl-E",
    "itemize": "Ctrl-I"
   },
   "labels_anchors": false,
   "latex_user_defs": false,
   "report_style_numbering": false,
   "user_envs_cfg": false
  },
  "toc": {
   "base_numbering": 1,
   "nav_menu": {},
   "number_sections": true,
   "sideBar": true,
   "skip_h1_title": false,
   "title_cell": "Table of Contents",
   "title_sidebar": "Contents",
   "toc_cell": true,
   "toc_position": {},
   "toc_section_display": true,
   "toc_window_display": false
  }
 },
 "nbformat": 4,
 "nbformat_minor": 2
}
