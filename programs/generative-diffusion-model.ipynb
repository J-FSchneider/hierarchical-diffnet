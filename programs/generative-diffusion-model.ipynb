{
 "cells": [
  {
   "cell_type": "markdown",
   "metadata": {
    "toc": true
   },
   "source": [
    "<h1>Table of Contents<span class=\"tocSkip\"></span></h1>\n",
    "<div class=\"toc\"><ul class=\"toc-item\"><li><span><a href=\"#Build-function-for-building-cascade\" data-toc-modified-id=\"Build-function-for-building-cascade-1\"><span class=\"toc-item-num\">1&nbsp;&nbsp;</span>Build function for building cascade</a></span><ul class=\"toc-item\"><li><span><a href=\"#Test-shortest-path-function\" data-toc-modified-id=\"Test-shortest-path-function-1.1\"><span class=\"toc-item-num\">1.1&nbsp;&nbsp;</span>Test shortest path function</a></span></li></ul></li><li><span><a href=\"#Import-dataset\" data-toc-modified-id=\"Import-dataset-2\"><span class=\"toc-item-num\">2&nbsp;&nbsp;</span>Import dataset</a></span><ul class=\"toc-item\"><li><span><a href=\"#Store-cascade-data\" data-toc-modified-id=\"Store-cascade-data-2.1\"><span class=\"toc-item-num\">2.1&nbsp;&nbsp;</span>Store cascade data</a></span></li><li><span><a href=\"#Store-cascade-seed-data\" data-toc-modified-id=\"Store-cascade-seed-data-2.2\"><span class=\"toc-item-num\">2.2&nbsp;&nbsp;</span>Store cascade seed data</a></span></li></ul></li><li><span><a href=\"#Model\" data-toc-modified-id=\"Model-3\"><span class=\"toc-item-num\">3&nbsp;&nbsp;</span>Model</a></span></li><li><span><a href=\"#Criticize-model-compared-to-NETRATE-results\" data-toc-modified-id=\"Criticize-model-compared-to-NETRATE-results-4\"><span class=\"toc-item-num\">4&nbsp;&nbsp;</span>Criticize model compared to NETRATE results</a></span><ul class=\"toc-item\"><li><ul class=\"toc-item\"><li><span><a href=\"#pathEM-Algorithm\" data-toc-modified-id=\"pathEM-Algorithm-4.0.1\"><span class=\"toc-item-num\">4.0.1&nbsp;&nbsp;</span>pathEM Algorithm</a></span></li></ul></li></ul></li></ul></div>"
   ]
  },
  {
   "cell_type": "code",
   "execution_count": 1,
   "metadata": {
    "ExecuteTime": {
     "end_time": "2018-11-20T03:41:05.922468Z",
     "start_time": "2018-11-20T03:41:03.141758Z"
    }
   },
   "outputs": [],
   "source": [
    "import tensorflow as tf\n",
    "import edward as ed\n",
    "import numpy as np\n",
    "\n",
    "from edward.models import Beta, Exponential, Gamma, Normal"
   ]
  },
  {
   "cell_type": "code",
   "execution_count": 2,
   "metadata": {
    "ExecuteTime": {
     "end_time": "2018-11-20T03:41:07.239418Z",
     "start_time": "2018-11-20T03:41:07.186301Z"
    }
   },
   "outputs": [],
   "source": [
    "sess = ed.get_session()"
   ]
  },
  {
   "cell_type": "markdown",
   "metadata": {},
   "source": [
    "# Build function for building cascade"
   ]
  },
  {
   "cell_type": "code",
   "execution_count": 3,
   "metadata": {
    "ExecuteTime": {
     "end_time": "2018-11-20T03:41:08.096167Z",
     "start_time": "2018-11-20T03:41:08.091566Z"
    }
   },
   "outputs": [],
   "source": [
    "def build_cascade(time, seed, T):\n",
    "    # Store number of nodes\n",
    "    n = time.shape[0]\n",
    "\n",
    "    # Transpose times and reduce minimum\n",
    "    times_T = tf.minimum(tf.transpose(time),T)\n",
    "\n",
    "    # Initialize transmission times to be max time except for seed node\n",
    "    transmission = tf.ones(n)*T\n",
    "    transmission = tf.subtract(transmission,tf.one_hot(seed, n)*T)\n",
    "\n",
    "    \n",
    "    # Continually update transmissions\n",
    "    for _ in range(n):\n",
    "\n",
    "        # Tile transmission\n",
    "        transmission_tiled = tf.reshape(tf.tile(transmission,[n]),[n,n])\n",
    "\n",
    "        # Add transposed times and tiled transmissions\n",
    "        potential_transmission = tf.add(transmission_tiled,times_T)\n",
    "\n",
    "        # Find minimum path from all new \n",
    "        potential_transmission_row = tf.reduce_min(potential_transmission, reduction_indices=[1])\n",
    "\n",
    "        # Concatenate previous transmission and potential new transmission\n",
    "        potential_transmission_stack = tf.stack([transmission,potential_transmission_row],axis=0)\n",
    "\n",
    "        # Take the minimum of the original transmission and the potential new transmission\n",
    "        transmission = tf.reduce_min(potential_transmission_stack, reduction_indices=[0])\n",
    "\n",
    "    return transmission"
   ]
  },
  {
   "cell_type": "code",
   "execution_count": 4,
   "metadata": {
    "ExecuteTime": {
     "end_time": "2018-11-20T03:41:08.557775Z",
     "start_time": "2018-11-20T03:41:08.555184Z"
    }
   },
   "outputs": [],
   "source": [
    "def build_cascade_series(time, seeds, T):\n",
    "\n",
    "    transmission_stack = tf.map_fn(lambda x: build_cascade(time, x, T), seeds, dtype=tf.double)\n",
    "    return tf.cast(transmission_stack,tf.float64)"
   ]
  },
  {
   "cell_type": "markdown",
   "metadata": {},
   "source": [
    "## Test shortest path function"
   ]
  },
  {
   "cell_type": "code",
   "execution_count": 53,
   "metadata": {
    "ExecuteTime": {
     "end_time": "2018-11-20T05:33:02.211287Z",
     "start_time": "2018-11-20T05:33:01.870684Z"
    }
   },
   "outputs": [
    {
     "data": {
      "text/plain": [
       "array([10., 10.,  0., 10., 10., 10., 10., 10., 10., 10.], dtype=float32)"
      ]
     },
     "execution_count": 53,
     "metadata": {},
     "output_type": "execute_result"
    }
   ],
   "source": [
    "alpha = tf.convert_to_tensor([[0, 1, 0, 0, 0, 0, 0, 0, 0, 0],\n",
    "                              [1, 0, 0, 0, 0, 0, 0, 0, 0, 0],\n",
    "                              [0, 0, 0, 0, 0, 0, 0, 0, 0, 0],\n",
    "                              [0, 0, 0, 0, 0, 0, 0, 0, 0, 0],\n",
    "                              [0, 0, 0, 0, 0, 0, 0, 0, 0, 0],\n",
    "                              [0, 0, 0, 0, 0, 0, 0, 0, 0, 0],\n",
    "                              [0, 0, 0, 0, 0, 0, 0, 0, 0, 0],\n",
    "                              [0, 0, 0, 0, 0, 0, 0, 0, 0, 0],\n",
    "                              [0, 0, 0, 0, 0, 0, 0, 0, 0, 0],\n",
    "                              [0, 0, 0, 0, 0, 0, 0, 0, 0, 0]],tf.float32)\n",
    "tau = Exponential(alpha)\n",
    "\n",
    "sess.run(build_cascade(tau, 2, 10))"
   ]
  },
  {
   "cell_type": "markdown",
   "metadata": {},
   "source": [
    "# Import dataset"
   ]
  },
  {
   "cell_type": "code",
   "execution_count": 6,
   "metadata": {
    "ExecuteTime": {
     "end_time": "2018-11-20T03:41:09.740219Z",
     "start_time": "2018-11-20T03:41:09.712495Z"
    }
   },
   "outputs": [],
   "source": [
    "with open('kronecker-core-periphery-n1024-h10-r0_01-0_25-1000-cascades.txt','r') as f:\n",
    "    \n",
    "    # Store number of nodes\n",
    "    numNodes = -1\n",
    "    while True:\n",
    "        if f.readline() == \"\\n\":\n",
    "            break\n",
    "        numNodes+=1\n",
    "\n",
    "    # Collect cascades into list\n",
    "    v = []\n",
    "    for line in f.readlines():\n",
    "        v.append([float(l) for l in line.rstrip('\\n').split(\",\")])"
   ]
  },
  {
   "cell_type": "markdown",
   "metadata": {},
   "source": [
    "## Store cascade data"
   ]
  },
  {
   "cell_type": "code",
   "execution_count": 91,
   "metadata": {
    "ExecuteTime": {
     "end_time": "2018-11-20T05:42:57.674159Z",
     "start_time": "2018-11-20T05:42:57.642428Z"
    }
   },
   "outputs": [],
   "source": [
    "np_cascades = np.ones((len(v),numNodes),np.float32)*100\n",
    "for row, cascade in enumerate(v):  \n",
    "    c_nodes = [int(cascade[i*2]) for i in range(len(cascade)//2)]\n",
    "    c_times = [cascade[i*2+1] for i in range(len(cascade)//2)]\n",
    "\n",
    "    for col in range(len(c_nodes)):\n",
    "        np_cascades[row][c_nodes[col]]=c_times[col]"
   ]
  },
  {
   "cell_type": "markdown",
   "metadata": {},
   "source": [
    "## Store cascade seed data"
   ]
  },
  {
   "cell_type": "code",
   "execution_count": 92,
   "metadata": {
    "ExecuteTime": {
     "end_time": "2018-11-20T05:43:02.205412Z",
     "start_time": "2018-11-20T05:43:02.202721Z"
    }
   },
   "outputs": [],
   "source": [
    "np_seeds = np.array([cascade[0] for cascade in v], dtype = np.int)"
   ]
  },
  {
   "cell_type": "markdown",
   "metadata": {},
   "source": [
    "# Model"
   ]
  },
  {
   "cell_type": "code",
   "execution_count": 93,
   "metadata": {
    "ExecuteTime": {
     "end_time": "2018-11-20T05:43:10.928804Z",
     "start_time": "2018-11-20T05:43:04.292943Z"
    }
   },
   "outputs": [],
   "source": [
    "# Time horizon of cascade\n",
    "T = 100\n",
    "\n",
    "# Gamma(1,1) priors on alpha\n",
    "ed_a = Gamma(tf.ones([numNodes,numNodes]),tf.ones([numNodes,numNodes]))\n",
    "\n",
    "# Exponentiate alpha to get times\n",
    "ed_tau = Exponential(ed_a)\n",
    "\n",
    "# Placeholder for seed input data\n",
    "seed_ph = tf.placeholder(tf.int64, [np_seeds.shape[0],])\n",
    "\n",
    "# Build series of C cascades\n",
    "cascade_ph = build_cascade_series(ed_tau, seed_ph, T)"
   ]
  },
  {
   "cell_type": "code",
   "execution_count": 64,
   "metadata": {
    "ExecuteTime": {
     "end_time": "2018-11-20T05:35:27.015627Z",
     "start_time": "2018-11-20T05:35:27.012410Z"
    }
   },
   "outputs": [],
   "source": [
    "# q_a = Normal(loc=tf.get_variable(\"q_a/loc\", [numNodes, numNodes]),\n",
    "#             scale=tf.nn.softplus(tf.get_variable(\"q_a/scale\", [numNodes, numNodes])))"
   ]
  },
  {
   "cell_type": "code",
   "execution_count": 96,
   "metadata": {
    "ExecuteTime": {
     "end_time": "2018-11-20T05:43:18.077040Z",
     "start_time": "2018-11-20T05:43:17.388255Z"
    }
   },
   "outputs": [
    {
     "name": "stderr",
     "output_type": "stream",
     "text": [
      "/Users/brianallen131/src/edward/edward/util/random_variables.py:52: FutureWarning: Conversion of the second argument of issubdtype from `float` to `np.floating` is deprecated. In future, it will be treated as `np.float64 == np.dtype(float).type`.\n",
      "  not np.issubdtype(value.dtype, np.float) and \\\n"
     ]
    }
   ],
   "source": [
    "data = {cascade_ph: np_cascades,\n",
    "        seed_ph: np_seeds}\n",
    "inference = ed.KLqp({ed_a: q_a}, data)"
   ]
  },
  {
   "cell_type": "code",
   "execution_count": 95,
   "metadata": {
    "ExecuteTime": {
     "end_time": "2018-11-20T05:43:17.176145Z",
     "start_time": "2018-11-20T05:43:16.451449Z"
    }
   },
   "outputs": [
    {
     "name": "stderr",
     "output_type": "stream",
     "text": [
      "/Users/brianallen131/src/edward/edward/util/random_variables.py:52: FutureWarning: Conversion of the second argument of issubdtype from `float` to `np.floating` is deprecated. In future, it will be treated as `np.float64 == np.dtype(float).type`.\n",
      "  not np.issubdtype(value.dtype, np.float) and \\\n"
     ]
    }
   ],
   "source": [
    "data = {cascade_ph: np_cascades,\n",
    "# data = {cascade_ph: np.repeat(np_cascades[0].reshape(1,1023),1001, axis=0),\n",
    "        seed_ph: np_seeds}\n",
    "inference = ed.MAP([ed_a], data)"
   ]
  },
  {
   "cell_type": "code",
   "execution_count": 97,
   "metadata": {
    "ExecuteTime": {
     "end_time": "2018-11-20T05:45:32.223761Z",
     "start_time": "2018-11-20T05:43:19.794710Z"
    }
   },
   "outputs": [
    {
     "name": "stdout",
     "output_type": "stream",
     "text": [
      "2000/2000 [100%] ██████████████████████████████ Elapsed: 131s | Loss: 13998.625\n"
     ]
    }
   ],
   "source": [
    "tf.global_variables_initializer().run()\n",
    "\n",
    "# optimizer = tf.train.AdamOptimizer(0.01, epsilon=1.0)\n",
    "# inference.initialize(optimizer=optimizer)\n",
    "\n",
    "inference.run(n_iter=2000)\n",
    "inference.finalize()"
   ]
  },
  {
   "cell_type": "code",
   "execution_count": 105,
   "metadata": {
    "ExecuteTime": {
     "end_time": "2018-11-20T05:46:46.579920Z",
     "start_time": "2018-11-20T05:46:46.570703Z"
    },
    "scrolled": false
   },
   "outputs": [
    {
     "data": {
      "text/plain": [
       "0.20594983"
      ]
     },
     "execution_count": 105,
     "metadata": {},
     "output_type": "execute_result"
    }
   ],
   "source": [
    "tf.get_collection(tf.GraphKeys.GLOBAL_VARIABLES)\n",
    "\n",
    "\n",
    "sess.run(tf.get_collection('variables', scope='optimizer_4/q_a/loc/Adam'))[0][753][261]"
   ]
  },
  {
   "cell_type": "code",
   "execution_count": null,
   "metadata": {
    "ExecuteTime": {
     "end_time": "2018-11-19T23:38:09.367547Z",
     "start_time": "2018-11-19T23:38:09.220968Z"
    }
   },
   "outputs": [],
   "source": [
    "optimized_alpha = sess.run(inference.latent_vars)"
   ]
  },
  {
   "cell_type": "code",
   "execution_count": null,
   "metadata": {
    "ExecuteTime": {
     "end_time": "2018-11-19T23:38:10.938874Z",
     "start_time": "2018-11-19T23:38:10.933826Z"
    }
   },
   "outputs": [],
   "source": [
    "list(optimized_alpha.values())[0][753].argsort()[::-1]"
   ]
  },
  {
   "cell_type": "code",
   "execution_count": null,
   "metadata": {},
   "outputs": [],
   "source": [
    "loc_sample = q_a.sample(100)\n",
    "mu_sample = ed_a.sample(100)"
   ]
  },
  {
   "cell_type": "code",
   "execution_count": 100,
   "metadata": {
    "ExecuteTime": {
     "end_time": "2018-11-20T05:46:07.672200Z",
     "start_time": "2018-11-20T05:46:07.666743Z"
    }
   },
   "outputs": [
    {
     "name": "stdout",
     "output_type": "stream",
     "text": [
      "order\t node\t time\n",
      "-----\t ----\t ----\n",
      "    1\t  753\t 0.00\n",
      "    2\t  261\t 1.35\n",
      "    3\t  704\t 3.97\n",
      "    4\t  145\t 4.90\n",
      "    5\t   73\t 5.93\n",
      "    6\t  286\t 6.63\n",
      "    7\t  556\t 7.84\n",
      "    8\t   80\t 8.14\n",
      "    9\t  458\t 8.78\n",
      "   10\t    8\t 8.79\n",
      "   11\t  467\t 8.90\n",
      "   12\t  554\t 8.91\n",
      "   13\t   53\t 9.24\n",
      "   14\t    1\t 9.45\n",
      "   15\t  584\t 9.59\n",
      "   16\t  843\t 9.60\n",
      "   17\t  116\t 9.78\n",
      "   18\t  130\t 9.82\n",
      "   19\t  545\t 9.83\n",
      "   20\t  579\t 9.97\n",
      "   21\t  535\t 9.98\n"
     ]
    }
   ],
   "source": [
    "def printCascade(cascade):\n",
    "    print(\"order\\t node\\t time\")\n",
    "    print(\"-----\\t ----\\t ----\")\n",
    "    for i in range(len(cascade)//2):\n",
    "        print('{:5d}\\t {:4d}\\t {:0.2f}'.format(i+1,int(cascade[i*2]), cascade[i*2+1]))\n",
    "\n",
    "printCascade(v[0])"
   ]
  },
  {
   "cell_type": "markdown",
   "metadata": {},
   "source": [
    "# Criticize model compared to NETRATE results"
   ]
  },
  {
   "cell_type": "code",
   "execution_count": null,
   "metadata": {
    "ExecuteTime": {
     "end_time": "2018-11-20T03:14:35.308055Z",
     "start_time": "2018-11-20T03:14:32.384Z"
    }
   },
   "outputs": [],
   "source": [
    "import matplotlib.pyplot as plt\n",
    "# plt.imshow(list(optimized_alpha.values())[0], cmap='hot')"
   ]
  },
  {
   "cell_type": "code",
   "execution_count": 29,
   "metadata": {
    "ExecuteTime": {
     "end_time": "2018-11-20T04:34:01.598740Z",
     "start_time": "2018-11-20T04:34:01.106400Z"
    }
   },
   "outputs": [],
   "source": [
    "netrate = np.loadtxt(open(\"netrate alpha.txt\", \"rb\"), delimiter=\",\")"
   ]
  },
  {
   "cell_type": "code",
   "execution_count": null,
   "metadata": {
    "ExecuteTime": {
     "end_time": "2018-11-20T03:13:24.432809Z",
     "start_time": "2018-11-20T03:13:24.298440Z"
    }
   },
   "outputs": [],
   "source": [
    "plt.imshow(netrate,cmap='hot')"
   ]
  },
  {
   "cell_type": "code",
   "execution_count": null,
   "metadata": {
    "ExecuteTime": {
     "end_time": "2018-11-20T03:13:24.928818Z",
     "start_time": "2018-11-20T03:13:24.924589Z"
    }
   },
   "outputs": [],
   "source": [
    "netrate[753][261]"
   ]
  },
  {
   "cell_type": "code",
   "execution_count": null,
   "metadata": {
    "ExecuteTime": {
     "end_time": "2018-11-19T03:08:59.895273Z",
     "start_time": "2018-11-19T03:08:59.891552Z"
    }
   },
   "outputs": [],
   "source": [
    "np_cascades.shape"
   ]
  },
  {
   "cell_type": "code",
   "execution_count": null,
   "metadata": {
    "ExecuteTime": {
     "start_time": "2018-11-20T03:26:43.826Z"
    }
   },
   "outputs": [],
   "source": [
    "plt.hist(np.ravel(netrate),bins=50)"
   ]
  },
  {
   "cell_type": "code",
   "execution_count": 45,
   "metadata": {
    "ExecuteTime": {
     "end_time": "2018-11-20T04:37:40.900549Z",
     "start_time": "2018-11-20T04:37:40.895909Z"
    }
   },
   "outputs": [
    {
     "data": {
      "text/plain": [
       "0.0"
      ]
     },
     "execution_count": 45,
     "metadata": {},
     "output_type": "execute_result"
    }
   ],
   "source": [
    "netrate[753][217]"
   ]
  },
  {
   "cell_type": "markdown",
   "metadata": {},
   "source": [
    "### pathEM Algorithm\n",
    "\n",
    "** Shortest Path Based Decision Making Using Probabilistic Inference **"
   ]
  },
  {
   "cell_type": "code",
   "execution_count": 46,
   "metadata": {
    "ExecuteTime": {
     "end_time": "2018-11-20T05:18:07.751396Z",
     "start_time": "2018-11-20T05:18:07.727195Z"
    }
   },
   "outputs": [],
   "source": [
    "alpha = tf.convert_to_tensor([[0, 1, 0, 0, 0, 0, 0, 0, 0, 0],\n",
    "                              [1, 0, 0, 0, 0, 0, 0, 0, 0, 0],\n",
    "                              [0, 0, 0, 0, 0, 0, 0, 0, 0, 0],\n",
    "                              [0, 0, 0, 0, 0, 0, 0, 0, 0, 0],\n",
    "                              [0, 0, 0, 0, 0, 0, 0, 0, 0, 0],\n",
    "                              [0, 0, 0, 0, 0, 0, 0, 0, 0, 0],\n",
    "                              [0, 0, 0, 0, 0, 0, 0, 0, 0, 0],\n",
    "                              [0, 0, 0, 0, 0, 0, 0, 0, 0, 0],\n",
    "                              [0, 0, 0, 0, 0, 0, 0, 0, 0, 0],\n",
    "                              [0, 0, 0, 0, 0, 0, 0, 0, 0, 0]],tf.float32)\n",
    "tau = Exponential(alpha)\n",
    "\n",
    "\n",
    "def pathEM(time):\n",
    "    x_ij = tf.ones(time.shape)/2\n",
    "    xtilde_ij = tf.ones(time.shape)/2\n",
    "    lambda_i = tf.zeros(time.shape)\n",
    "    lambda_ij = tf.ones(time.shape)\n",
    "    \n",
    "    for _ in range(10):\n",
    "        g_lambda = \n",
    "    \n",
    "pathEM(tau)"
   ]
  },
  {
   "cell_type": "code",
   "execution_count": 106,
   "metadata": {
    "ExecuteTime": {
     "end_time": "2018-11-20T05:46:53.526892Z",
     "start_time": "2018-11-20T05:46:53.522561Z"
    }
   },
   "outputs": [
    {
     "data": {
      "text/plain": [
       "array([100.      ,   9.451033, 100.      , ..., 100.      , 100.      ,\n",
       "       100.      ], dtype=float32)"
      ]
     },
     "execution_count": 106,
     "metadata": {},
     "output_type": "execute_result"
    }
   ],
   "source": [
    "np_cascades[0]"
   ]
  },
  {
   "cell_type": "code",
   "execution_count": null,
   "metadata": {},
   "outputs": [],
   "source": []
  }
 ],
 "metadata": {
  "kernelspec": {
   "display_name": "Python 3",
   "language": "python",
   "name": "python3"
  },
  "language_info": {
   "codemirror_mode": {
    "name": "ipython",
    "version": 3
   },
   "file_extension": ".py",
   "mimetype": "text/x-python",
   "name": "python",
   "nbconvert_exporter": "python",
   "pygments_lexer": "ipython3",
   "version": "3.6.6"
  },
  "latex_envs": {
   "LaTeX_envs_menu_present": true,
   "autoclose": false,
   "autocomplete": true,
   "bibliofile": "biblio.bib",
   "cite_by": "apalike",
   "current_citInitial": 1,
   "eqLabelWithNumbers": true,
   "eqNumInitial": 1,
   "hotkeys": {
    "equation": "Ctrl-E",
    "itemize": "Ctrl-I"
   },
   "labels_anchors": false,
   "latex_user_defs": false,
   "report_style_numbering": false,
   "user_envs_cfg": false
  },
  "toc": {
   "base_numbering": 1,
   "nav_menu": {},
   "number_sections": true,
   "sideBar": true,
   "skip_h1_title": false,
   "title_cell": "Table of Contents",
   "title_sidebar": "Contents",
   "toc_cell": true,
   "toc_position": {},
   "toc_section_display": true,
   "toc_window_display": false
  }
 },
 "nbformat": 4,
 "nbformat_minor": 2
}
